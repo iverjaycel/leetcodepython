{
 "cells": [
  {
   "cell_type": "markdown",
   "id": "2f233dd3-5faf-4ebc-8b5c-b0f903bb6445",
   "metadata": {},
   "source": [
    "# Functions \n",
    "In Python, a function is a reusable block of code that performs a specific task. Functions help organize code, making it more readable, modular, and easier to maintain. They can accept inputs (parameters), process them, and optionally return a result"
   ]
  },
  {
   "cell_type": "code",
   "execution_count": 4,
   "id": "643020dd-17bd-4dd0-94d2-68d66ec32bb6",
   "metadata": {},
   "outputs": [],
   "source": [
    "# User Defined Functions\n",
    "def greet(name): \n",
    "    return f\"Hello, {name}!\" #Takes Parameter "
   ]
  },
  {
   "cell_type": "code",
   "execution_count": 3,
   "id": "74d41710-94d2-4ef6-9438-76590af3833f",
   "metadata": {},
   "outputs": [
    {
     "name": "stdout",
     "output_type": "stream",
     "text": [
      "10\n"
     ]
    }
   ],
   "source": [
    "#Built in Function\n",
    "max_val = max(10, 5, 8)\n",
    "print(max_val)  # Output: 10\n"
   ]
  },
  {
   "cell_type": "code",
   "execution_count": 7,
   "id": "3b2a8ddc-c5cf-4ed2-9445-7eafd1cc7599",
   "metadata": {},
   "outputs": [
    {
     "name": "stdout",
     "output_type": "stream",
     "text": [
      "16\n"
     ]
    }
   ],
   "source": [
    "#Lambda Functions (Anonymous Functions)\n",
    "square = lambda x: x * x\n",
    "print(square(4))  # Output: 16\n"
   ]
  },
  {
   "cell_type": "code",
   "execution_count": 25,
   "id": "a141e7a2-eaa2-4ebb-bb30-a35b92225ee3",
   "metadata": {},
   "outputs": [],
   "source": [
    "#Recursive Functions A function that calls itself.\n",
    "def factorial(n):\n",
    "    if n == 1:\n",
    "        return 1\n",
    "    return n * factorial(n - 1)\n"
   ]
  },
  {
   "cell_type": "code",
   "execution_count": 20,
   "id": "63061dbb-672f-40dd-90b3-5115abb8baa4",
   "metadata": {},
   "outputs": [],
   "source": [
    "# Functions with Default Parameters Provide default values for arguments.\n",
    "def greet(name=\"Stranger\"):\n",
    "    return f\"Hello, {name}!\"\n"
   ]
  },
  {
   "cell_type": "code",
   "execution_count": 23,
   "id": "605ec3b7-7756-46fc-977b-a62d951d9cd1",
   "metadata": {},
   "outputs": [],
   "source": [
    "#Functions with Variable Arguments Useful when the number of arguments is not fixed.\n",
    "def add_all(*numbers):\n",
    "    return sum(numbers)\n"
   ]
  },
  {
   "cell_type": "code",
   "execution_count": 24,
   "id": "b7d9222d-eb10-4a4a-94b1-ee6375627b29",
   "metadata": {},
   "outputs": [],
   "source": [
    "def print_info(**info):\n",
    "    for key, value in info.items():\n",
    "        print(f\"{key}: {value}\")\n"
   ]
  },
  {
   "cell_type": "markdown",
   "id": "14ea45aa-fca0-41c4-b32b-44a3a27c7ab5",
   "metadata": {},
   "source": [
    "# OOP \n",
    "Object-Oriented Programming is a paradigm where you structure code using classes and objects to model real-world things.\n",
    "OOP is essential for building scalable, modular code — especially useful in large LeetCode problems or system design."
   ]
  },
  {
   "cell_type": "markdown",
   "id": "9ca77798-4851-4deb-93cb-8f95ebafba51",
   "metadata": {},
   "source": [
    "### Classes and Objects"
   ]
  },
  {
   "cell_type": "code",
   "execution_count": 26,
   "id": "f1cee14f-e1a3-45ef-97c0-121bfb563fbd",
   "metadata": {},
   "outputs": [
    {
     "name": "stdout",
     "output_type": "stream",
     "text": [
      "Rex says woof!\n"
     ]
    }
   ],
   "source": [
    "# Classes and Objects\n",
    "# A class is a blueprint. An object is an instance of a class.\n",
    "lass Dog:\n",
    "    def __init__(self,name): # __init__ is the constructor.\n",
    "        self.name = name # self.name is an instance variable.\n",
    "\n",
    "    def bark(self):\n",
    "        return f\"{self.name} says woof!\"\n",
    "\n",
    "dog1 = Dog(\"Rex\") # dog1 is an object of class Dog.\n",
    "print(dog1.bark()) # Output"
   ]
  },
  {
   "cell_type": "markdown",
   "id": "9531f2c2-bd0e-46ec-84bd-32aa6af2cb17",
   "metadata": {},
   "source": [
    "### Encapsulation\n",
    "Keeping data safe and controlling access.\n",
    "\n",
    "Explanation:\n",
    "\n",
    "__balance is private.\n",
    "\n",
    "Accessed through get_balance() only."
   ]
  },
  {
   "cell_type": "code",
   "execution_count": 29,
   "id": "ca0a04b2-20c7-412e-a5cd-1324e136435c",
   "metadata": {},
   "outputs": [],
   "source": [
    "class BankAccount:\n",
    "    def __init__(self):\n",
    "        self .__balance = 0  #Private Variable\n",
    "    \n",
    "    def deposit(self,amount):\n",
    "        if amount > 0:\n",
    "            self.__balance += amount\n",
    "    def get_balance(self):\n",
    "        return self.__balance "
   ]
  },
  {
   "cell_type": "markdown",
   "id": "87f247d7-cc02-45d9-bf9f-2c66f2a5b8e0",
   "metadata": {},
   "source": [
    "### Inheritanace \n",
    "Child classes inheret from parent classes\n",
    "\n",
    "Cat inherits Animal.\n",
    "\n",
    "Overrides speak()"
   ]
  },
  {
   "cell_type": "code",
   "execution_count": 30,
   "id": "6eb0a731-925a-4fc8-9553-b09b323fcd5a",
   "metadata": {},
   "outputs": [
    {
     "name": "stdout",
     "output_type": "stream",
     "text": [
      "Meow\n"
     ]
    }
   ],
   "source": [
    "class Animal: \n",
    "    def speak(self):\n",
    "        return \"Some sound\"\n",
    "class Cat(Animal):\n",
    "    def speak(self):\n",
    "        return \"Meow\"\n",
    "\n",
    "cat1 = Cat()\n",
    "print(cat1.speak())"
   ]
  },
  {
   "cell_type": "markdown",
   "id": "23143d97-fd65-487c-b007-5a50914ba369",
   "metadata": {},
   "source": [
    "### Polymorphism\n",
    "Some method name,different behavior \n",
    "\n",
    "Different classes use the same sound() method name.\n",
    "\n",
    "make_sound() works for any object with sound()."
   ]
  },
  {
   "cell_type": "code",
   "execution_count": 31,
   "id": "47a63593-e3f1-41c0-8527-729e11ff6ea5",
   "metadata": {},
   "outputs": [
    {
     "name": "stdout",
     "output_type": "stream",
     "text": [
      "Tweet\n",
      "Moo\n"
     ]
    }
   ],
   "source": [
    "class Bird:\n",
    "    def sound(self):\n",
    "        return \"Tweet\"\n",
    "\n",
    "class Cow:\n",
    "    def sound(self):\n",
    "        return \"Moo\"\n",
    "        \n",
    "def make_sound(animal):\n",
    "    print(animal.sound())\n",
    "\n",
    "make_sound(Bird())\n",
    "make_sound(Cow())"
   ]
  },
  {
   "cell_type": "markdown",
   "id": "e7ebeab4-d7d4-4993-acc9-0b3500d0e4de",
   "metadata": {},
   "source": [
    "### Abstraction \n",
    "Hides some complex logic from the user."
   ]
  },
  {
   "cell_type": "code",
   "execution_count": 32,
   "id": "a13421a9-57f6-4b32-b619-e1a5904158e5",
   "metadata": {},
   "outputs": [
    {
     "name": "stdout",
     "output_type": "stream",
     "text": [
      "Car is driving\n"
     ]
    }
   ],
   "source": [
    "from abc import ABC, abstractmethod\n",
    "\n",
    "class Vehicle(ABC):\n",
    "    @abstractmethod\n",
    "    def drive(self):\n",
    "        pass\n",
    "\n",
    "class Car(Vehicle):\n",
    "    def drive(self):\n",
    "        return \"Car is driving\"\n",
    "\n",
    "car = Car()\n",
    "print(car.drive())  # Car is driving\n"
   ]
  },
  {
   "cell_type": "code",
   "execution_count": null,
   "id": "b71b1f7f-e257-4cb6-bbfd-972bf4bbf09b",
   "metadata": {},
   "outputs": [],
   "source": []
  }
 ],
 "metadata": {
  "kernelspec": {
   "display_name": "Python 3 (ipykernel)",
   "language": "python",
   "name": "python3"
  },
  "language_info": {
   "codemirror_mode": {
    "name": "ipython",
    "version": 3
   },
   "file_extension": ".py",
   "mimetype": "text/x-python",
   "name": "python",
   "nbconvert_exporter": "python",
   "pygments_lexer": "ipython3",
   "version": "3.13.2"
  }
 },
 "nbformat": 4,
 "nbformat_minor": 5
}
