{
 "cells": [
  {
   "cell_type": "markdown",
   "id": "2eac40e5",
   "metadata": {},
   "source": [
    "# ex.1\n",
    "Create two variables a and b, and initially set them each to a different number. Write a program that swaps both values.\n",
    "\n",
    "* Example: a = 10, b = 20\n",
    "* Output: a = 20, b = 10\n"
   ]
  },
  {
   "cell_type": "code",
   "execution_count": null,
   "id": "59f685b4-68fa-44fc-941a-a12b6aad7b7d",
   "metadata": {},
   "outputs": [],
   "source": []
  },
  {
   "cell_type": "code",
   "execution_count": 15,
   "id": "8fc1be6a",
   "metadata": {},
   "outputs": [
    {
     "name": "stdout",
     "output_type": "stream",
     "text": [
      "a =  20\n",
      "b =  10\n"
     ]
    }
   ],
   "source": [
    "a = 10\n",
    "b = 20 \n",
    "\n",
    "# temp = a  // swap using a temporary var \n",
    "# a = b \n",
    "# b = temp \n",
    "a,b = b,a\n",
    "print('a = ',format(a))\n",
    "print('b = ',format(b))\n"
   ]
  },
  {
   "cell_type": "markdown",
   "id": "522c15ac",
   "metadata": {},
   "source": [
    "# ex.2\n",
    "It's the end of the semester and you got your grades from three classes: Geometry, Algebra, and Physics.\n",
    "\n",
    "Create a program that:\n",
    "1) Reads the grades of these 3 classes (Grades range from 0 - 10)\n",
    "2) Calculate the average of your grades\n",
    "\n",
    "* Example: Geometry = 6, Algebra = 7, Physics = 8\n",
    "* Output: average_score = 7\n",
    "\n",
    "Warning! Do not use the programming language MAGIC. After you complete the exercise feel free to do so."
   ]
  },
  {
   "cell_type": "code",
   "execution_count": null,
   "id": "b8c16cf5",
   "metadata": {},
   "outputs": [],
   "source": [
    "math = 10\n",
    "science = 7\n",
    "\n",
    "ans = math + science "
   ]
  }
 ],
 "metadata": {
  "kernelspec": {
   "display_name": "Python 3 (ipykernel)",
   "language": "python",
   "name": "python3"
  },
  "language_info": {
   "codemirror_mode": {
    "name": "ipython",
    "version": 3
   },
   "file_extension": ".py",
   "mimetype": "text/x-python",
   "name": "python",
   "nbconvert_exporter": "python",
   "pygments_lexer": "ipython3",
   "version": "3.13.2"
  }
 },
 "nbformat": 4,
 "nbformat_minor": 5
}
