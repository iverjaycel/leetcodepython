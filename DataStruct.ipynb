{
 "cells": [
  {
   "cell_type": "markdown",
   "id": "e2f37e9d",
   "metadata": {},
   "source": [
    "# PYTHON DATA STRUCTURES "
   ]
  },
  {
   "cell_type": "markdown",
   "id": "2e7c0b20",
   "metadata": {},
   "source": [
    " # **List**:\n",
    "   - A list is an ordered and mutable collection of items.\n",
    "   - Lists are created using square brackets `[]`.\n",
    "   - Elements in a list can be of different data types (e.g., numbers, strings, other lists, etc.).\n",
    "   - Lists are zero-indexed, meaning the first element is at index 0, the second at index 1, and so on.\n",
    "   - You can change the elements in a list, add new elements, and remove elements.\n",
    "   - Example:"
   ]
  },
  {
   "cell_type": "code",
   "execution_count": 1,
   "id": "88843c80",
   "metadata": {},
   "outputs": [
    {
     "name": "stdout",
     "output_type": "stream",
     "text": [
      "[4, 3, 'apple', 'banana', 'cherry']\n"
     ]
    }
   ],
   "source": [
    "my_list = [1, 2, 3, 'apple', 'banana']\n",
    "my_list[0] = 4  # Modifying an element\n",
    "my_list.append('cherry')  # Adding an element\n",
    "my_list.remove(2)  # Removing an element\n",
    "\n",
    "print(my_list)"
   ]
  },
  {
   "cell_type": "markdown",
   "id": "607f8802",
   "metadata": {},
   "source": [
    "# **Tuple**:\n",
    "   - A tuple is an ordered and immutable collection of items.\n",
    "   - Tuples are created using parentheses `()`.\n",
    "   - Like lists, elements in a tuple can be of different data types.\n",
    "   - Tuples are used when you want to create a collection of values that should not change.\n",
    "   - Example:\n"
   ]
  },
  {
   "cell_type": "code",
   "execution_count": 2,
   "id": "e19e5ba3",
   "metadata": {},
   "outputs": [
    {
     "name": "stdout",
     "output_type": "stream",
     "text": [
      "(1, 2, 3, 'apple', 'banana')\n"
     ]
    }
   ],
   "source": [
    "my_tuple = (1, 2, 3, 'apple', 'banana')\n",
    "     # You cannot modify a tuple once it's created\n",
    "print(my_tuple)"
   ]
  },
  {
   "cell_type": "code",
   "execution_count": 3,
   "id": "749c9b1b-89a6-40a9-b6d3-3315ef64f0cf",
   "metadata": {},
   "outputs": [
    {
     "name": "stdout",
     "output_type": "stream",
     "text": [
      "(1, 2, 3, 'apple', 'banana')\n",
      "(1, 2, 3, 'apple', 'banana')\n",
      "(1, 2, 3, 'apple', 'banana')\n",
      "(1, 2, 3, 'apple', 'banana')\n",
      "(1, 2, 3, 'apple', 'banana')\n"
     ]
    }
   ],
   "source": [
    "my_tuple = (1, 2, 3, 'apple', 'banana')\n",
    "\n",
    "for i in range(len(my_tuple)):\n",
    "    print(my_tuple)"
   ]
  },
  {
   "cell_type": "markdown",
   "id": "cd8ef8c1",
   "metadata": {},
   "source": [
    "# **Set**:\n",
    "   - A set is an unordered collection of unique elements.\n",
    "   - Sets are created using curly braces `{}` or the `set()` constructor.\n",
    "   - Sets automatically eliminate duplicate values.\n",
    "   - Sets are useful for tasks like finding unique items or performing set operations (union, intersection, etc.).\n",
    "   - Example:"
   ]
  },
  {
   "cell_type": "code",
   "execution_count": 3,
   "id": "f1da6ab3",
   "metadata": {},
   "outputs": [
    {
     "name": "stdout",
     "output_type": "stream",
     "text": [
      "{1, 2, 3, 4}\n"
     ]
    }
   ],
   "source": [
    "my_set = {1, 2, 2, 3, 4, 4}\n",
    "# my_set is now {1, 2, 3, 4} - duplicates are removed\n",
    "print(my_set)"
   ]
  },
  {
   "cell_type": "markdown",
   "id": "92216a11",
   "metadata": {},
   "source": [
    "# **Dictionary (dict)**:\n",
    "\n",
    "   - A dictionary is an unordered collection of key-value pairs.\n",
    "   - Dictionaries are created using curly braces `{}` or the `dict()` constructor. Each key is associated with a value using a colon `:`.\n",
    "   - Keys in a dictionary are unique, and they are used to access their corresponding values.\n",
    "   - Dictionaries are useful for storing and retrieving data based on a key.\n",
    "   - Example:\n"
   ]
  },
  {
   "cell_type": "code",
   "execution_count": 4,
   "id": "e7818d41",
   "metadata": {},
   "outputs": [
    {
     "name": "stdout",
     "output_type": "stream",
     "text": [
      "John\n",
      "{'name': 'John', 'age': 31, 'city': 'New York'}\n"
     ]
    }
   ],
   "source": [
    "my_dict = {\n",
    "    'name': 'John',\n",
    "    'age': 30, \n",
    "    'city': 'New York'\n",
    "}\n",
    "print(my_dict['name'])  # Accessing value by key\n",
    "my_dict['age'] = 31  # Modifying a value\n",
    "print(my_dict)"
   ]
  },
  {
   "cell_type": "markdown",
   "id": "7f3a7662",
   "metadata": {},
   "source": [
    "Certainly! Let's create a Python code example to implement dictionaries and explain how they work.\n",
    "\n",
    "**Example: Using Dictionaries in Python**\n",
    "\n",
    "```python\n",
    "# Creating a dictionary to store information about a person\n",
    "person = {\n",
    "    \"first_name\": \"John\",\n",
    "    \"last_name\": \"Doe\",\n",
    "    \"age\": 30,\n",
    "    \"city\": \"New York\"\n",
    "}\n",
    "\n",
    "# Accessing values in the dictionary using keys\n",
    "print(\"First Name:\", person[\"first_name\"])\n",
    "print(\"Last Name:\", person[\"last_name\"])\n",
    "print(\"Age:\", person[\"age\"])\n",
    "print(\"City:\", person[\"city\"])\n",
    "\n",
    "# Modifying a value in the dictionary\n",
    "person[\"age\"] = 31\n",
    "\n",
    "# Adding a new key-value pair to the dictionary\n",
    "person[\"email\"] = \"john@example.com\"\n",
    "\n",
    "# Iterating over the keys and values in the dictionary\n",
    "print(\"\\nKey-Value Pairs:\")\n",
    "for key, value in person.items():\n",
    "    print(key + \":\", value)\n",
    "```\n",
    "\n",
    "**Explanation**:\n",
    "\n",
    "1. We create a dictionary named `person` to store information about a person. The dictionary consists of key-value pairs, where the keys are strings (e.g., \"first_name\") and the values can be of various data types (e.g., \"John\" for \"first_name\" and 30 for \"age\").\n",
    "\n",
    "2. We access values in the dictionary by using square brackets and the key (e.g., `person[\"first_name\"]` retrieves the value associated with the \"first_name\" key).\n",
    "\n",
    "3. We modify the \"age\" key in the dictionary, changing the age from 30 to 31.\n",
    "\n",
    "4. We add a new key-value pair to the dictionary by assigning a value to a previously unused key, in this case, \"email\" is added.\n",
    "\n",
    "5. We iterate over the dictionary using a `for` loop with `items()`. This loop allows us to access both the keys and their corresponding values. In the loop, we print out all the key-value pairs in the dictionary.\n",
    "\n",
    "When you run this code, you'll see how dictionaries can be used to store and manipulate data efficiently. They are particularly useful when you need to associate information or attributes with specific keys, as shown in this example."
   ]
  },
  {
   "cell_type": "code",
   "execution_count": 5,
   "id": "6a4289b0",
   "metadata": {},
   "outputs": [
    {
     "name": "stdout",
     "output_type": "stream",
     "text": [
      "First Name: John\n",
      "Last Name: Doe\n",
      "Age: 30\n",
      "City: New York\n",
      "\n",
      "Key-Value Pairs:\n",
      "first_name: John\n",
      "last_name: Doe\n",
      "age: 31\n",
      "city: New York\n",
      "email: john@example.com\n"
     ]
    }
   ],
   "source": [
    "# Creating a dictionary to store information about a person\n",
    "person = {\n",
    "    \"first_name\": \"John\",\n",
    "    \"last_name\": \"Doe\",\n",
    "    \"age\": 30,\n",
    "    \"city\": \"New York\"\n",
    "}\n",
    "\n",
    "# Accessing values in the dictionary using keys\n",
    "print(\"First Name:\", person[\"first_name\"])\n",
    "print(\"Last Name:\", person[\"last_name\"])\n",
    "print(\"Age:\", person[\"age\"])\n",
    "print(\"City:\", person[\"city\"])\n",
    "\n",
    "# Modifying a value in the dictionary\n",
    "person[\"age\"] = 31\n",
    "\n",
    "# Adding a new key-value pair to the dictionary\n",
    "person[\"email\"] = \"john@example.com\"\n",
    "\n",
    "# Iterating over the keys and values in the dictionary\n",
    "print(\"\\nKey-Value Pairs:\")\n",
    "for key, value in person.items():\n",
    "    print(key + \":\", value)\n"
   ]
  },
  {
   "cell_type": "markdown",
   "id": "6ab7411d-72c0-40d8-b52d-184a837c2868",
   "metadata": {},
   "source": [
    "## Linked List\n",
    "    What is linked List?\n",
    "    Node-based structure\n",
    "\n",
    "    Each element (node) has:\n",
    "\n",
    "        value\n",
    "\n",
    "        pointer to the next node\n",
    "\n",
    "    Unlike arrays, there’s no indexing — you walk through the list from head to tail."
   ]
  },
  {
   "cell_type": "code",
   "execution_count": 4,
   "id": "1689ea30-b145-469b-b7d2-357d4873bf7c",
   "metadata": {},
   "outputs": [
    {
     "name": "stdout",
     "output_type": "stream",
     "text": [
      "10\n",
      "20\n",
      "30\n"
     ]
    }
   ],
   "source": [
    "class Node:\n",
    "    def __init__(self,value):\n",
    "        self.value = value\n",
    "        self.next = None\n",
    "\n",
    "node1 = Node(10)\n",
    "node2 = Node(20)\n",
    "node3 = Node(30)\n",
    "\n",
    "node1.next = node2\n",
    "node2.next = node3\n",
    "\n",
    "current = node1\n",
    "while current is not None:\n",
    "    print(current.value)\n",
    "    current = current.next\n"
   ]
  },
  {
   "cell_type": "code",
   "execution_count": 4,
   "id": "e20801c9-eea4-4286-8346-7db04a43037b",
   "metadata": {},
   "outputs": [],
   "source": [
    "# Step 1: Create nodes\n",
    "node1 = Node(1)\n",
    "node2 = Node(2)\n",
    "node3 = Node(3)\n",
    "\n",
    "# Step 2: Link them together\n",
    "node1.next = node2\n",
    "node2.next = node3\n",
    "\n",
    "# Now, node1 is the HEAD of the list\n"
   ]
  },
  {
   "cell_type": "code",
   "execution_count": 5,
   "id": "d16da0bd-2f09-4daf-aade-da61c558c692",
   "metadata": {},
   "outputs": [
    {
     "name": "stdout",
     "output_type": "stream",
     "text": [
      "1\n",
      "2\n",
      "3\n"
     ]
    }
   ],
   "source": [
    "current = node1  # Start at the head\n",
    "while current is not None:\n",
    "    print(current.value)\n",
    "    current = current.next  # Move to the next node\n"
   ]
  },
  {
   "cell_type": "code",
   "execution_count": null,
   "id": "2cf935c4-4214-4fae-8085-b8932e7eafde",
   "metadata": {},
   "outputs": [],
   "source": [
    "# Step 1: Create the Node class\n",
    "class Node:\n",
    "    def __init__(self, value):\n",
    "        self.value = value\n",
    "        self.next = None\n",
    "\n",
    "# Step 2: Create the nodes\n",
    "node1 = Node(10)\n",
    "node2 = Node(20)\n",
    "node3 = Node(30)\n",
    "\n",
    "# Step 3: Link the nodes together\n",
    "node1.next = node2\n",
    "node2.next = node3\n",
    "\n",
    "# Step 4: Traverse the list\n",
    "current = node1\n",
    "while current is not None:\n",
    "    print(current.value)\n",
    "    current = current.next\n"
   ]
  },
  {
   "cell_type": "code",
   "execution_count": 6,
   "id": "32c0257e-0a9a-4e0d-8fa1-11053562a51c",
   "metadata": {},
   "outputs": [
    {
     "name": "stdout",
     "output_type": "stream",
     "text": [
      "5\n",
      "15\n",
      "25\n",
      "35\n"
     ]
    }
   ],
   "source": [
    "class Node:\n",
    "    def __init__(self,value):\n",
    "        self.value = value\n",
    "        self.next = None \n",
    "\n",
    "node1 = Node(5)\n",
    "node2 = Node(15)\n",
    "node3 = Node(25)\n",
    "node4 = Node(35)\n",
    "\n",
    "node1.next = node2\n",
    "node2.next = node3\n",
    "node3.next = node4\n",
    "\n",
    "current = node1\n",
    "while current is not None:\n",
    "    print(current.value)\n",
    "    current = current.next"
   ]
  },
  {
   "cell_type": "markdown",
   "id": "6f0c5f5f-b8c4-443b-a5b2-aafc812c20e6",
   "metadata": {},
   "source": [
    "## Head Insertion – Add a Node at the Beginning"
   ]
  },
  {
   "cell_type": "code",
   "execution_count": 7,
   "id": "929cf77d-27df-4bad-998f-60f4400cae29",
   "metadata": {},
   "outputs": [
    {
     "name": "stdout",
     "output_type": "stream",
     "text": [
      "5\n",
      "10\n",
      "20\n",
      "30\n"
     ]
    }
   ],
   "source": [
    "# Step 1: Node class (same as before)\n",
    "class Node:\n",
    "    def __init__(self, value):\n",
    "        self.value = value\n",
    "        self.next = None\n",
    "\n",
    "# Step 2: Create the existing list\n",
    "node1 = Node(10)\n",
    "node2 = Node(20)\n",
    "node3 = Node(30)\n",
    "\n",
    "node1.next = node2\n",
    "node2.next = node3\n",
    "\n",
    "# Step 3: Insert a new node at the beginning\n",
    "new_head = Node(5)        # Create the new node\n",
    "new_head.next = node1     # Link new node to the old head\n",
    "\n",
    "# Step 4: Traverse from new head\n",
    "current = new_head\n",
    "while current is not None:\n",
    "    print(current.value)\n",
    "    current = current.next"
   ]
  },
  {
   "cell_type": "markdown",
   "id": "40ebe7d0",
   "metadata": {},
   "source": [
    "# Python Stack \n",
    "\n",
    "#### Stack using Python List \n",
    "- Stack is a LIFO data structure --last-in , first-out.\n",
    "- Use append() to push an item onto stack.\n",
    "- Use pop() to remove an item. \n",
    "\n"
   ]
  },
  {
   "cell_type": "code",
   "execution_count": 6,
   "id": "5d877afe",
   "metadata": {},
   "outputs": [
    {
     "name": "stdout",
     "output_type": "stream",
     "text": [
      "[4, 7, 12, 19]\n"
     ]
    }
   ],
   "source": [
    "my_stack = list()\n",
    "\n",
    "my_stack.append(4)\n",
    "my_stack.append(7)\n",
    "my_stack.append(12)\n",
    "my_stack.append(19)\n",
    "\n",
    "print(my_stack)\n"
   ]
  },
  {
   "cell_type": "code",
   "execution_count": 7,
   "id": "3a3248ca",
   "metadata": {},
   "outputs": [
    {
     "name": "stdout",
     "output_type": "stream",
     "text": [
      "19\n",
      "12\n",
      "[4, 7]\n"
     ]
    }
   ],
   "source": [
    "print(my_stack.pop())\n",
    "print(my_stack.pop())\n",
    "\n",
    "print(my_stack)"
   ]
  },
  {
   "cell_type": "markdown",
   "id": "75264362",
   "metadata": {},
   "source": [
    "# Stack using List with a Wrapper Class\n",
    "\n",
    "we create a Stack class and a full set of Stack methods.\n",
    "But the underlying data structrure is really a Python List.\n",
    "For pop and peek mehtods we first check weahter the stack is empty, to avoid exceptions."
   ]
  },
  {
   "cell_type": "code",
   "execution_count": 7,
   "id": "087d8261",
   "metadata": {},
   "outputs": [],
   "source": [
    "class Stack(): \n",
    "    def __init__(self):# constructor init function \n",
    "        self.stack = list()#creates an empty list \n",
    "    def push(self, item):#recive an item   \n",
    "        self.stack.append(item)#use the append function to add the item in the list\n",
    "    def pop(self):# check if tehere is an item in the list if there is an item pop that item and return it\n",
    "        if len(self.stack) > 0: \n",
    "            return self.stack.pop()\n",
    "        else:\n",
    "            return None \n",
    "        def peek(self):#peek function allows us to look the top item on the list and return that item without taking it off\n",
    "            if len(self.stack) > 0:\n",
    "                return self.stack[len(self.stack)-1]\n",
    "            else:\n",
    "                return None\n",
    "        def __str__(self):\n",
    "            return str(self.stack) #Showthe string representation of the list \n",
    "        "
   ]
  },
  {
   "cell_type": "markdown",
   "id": "0afe63db",
   "metadata": {},
   "source": [
    "### Test Code for Stack Wrapper Class"
   ]
  },
  {
   "cell_type": "code",
   "execution_count": 9,
   "id": "eab27a4b",
   "metadata": {
    "scrolled": true
   },
   "outputs": [
    {
     "ename": "SyntaxError",
     "evalue": "'(' was never closed (603773874.py, line 7)",
     "output_type": "error",
     "traceback": [
      "\u001b[0;36m  File \u001b[0;32m\"/tmp/ipykernel_14729/603773874.py\"\u001b[0;36m, line \u001b[0;32m7\u001b[0m\n\u001b[0;31m    print(my_stack.peek()\u001b[0m\n\u001b[0m         ^\u001b[0m\n\u001b[0;31mSyntaxError\u001b[0m\u001b[0;31m:\u001b[0m '(' was never closed\n"
     ]
    }
   ],
   "source": [
    "my_stack = Stack()\n",
    "my_stack.push(1)\n",
    "my_stack.push(3)\n",
    "\n",
    "print(my_stack)\n",
    "print(my_stack.pop())\n",
    "#print(my_stack.peek())\n",
    "print(my_stack.pop())\n",
    "print(my_stack.pop())"
   ]
  },
  {
   "cell_type": "markdown",
   "id": "ab8ea76e",
   "metadata": {},
   "source": [
    "This code defines a basic implementation of a stack data structure in Python. A stack is a data structure that follows the Last-In-First-Out (LIFO) principle, which means the last element added to the stack is the first one to be removed. Let's go through the code line by line:\n",
    "\n",
    "1. `class Stack():`: This line defines a class named \"Stack.\"\n",
    "\n",
    "2. `def __init__(self):`: This is the constructor method for the Stack class. It initializes a new instance of the class and sets up an empty list to represent the stack. The `self.stack` attribute is used to store the elements of the stack.\n",
    "\n",
    "3. `self.stack = list()`: Inside the constructor, an empty list is created and assigned to the `self.stack` attribute. This list will be used to store the elements of the stack.\n",
    "\n",
    "4. `def push(self, item):`: This method is used to push (add) an item onto the stack. It takes an item as an argument and appends it to the end of the list, effectively adding it to the top of the stack.\n",
    "\n",
    "5. `self.stack.append(item)`: In the `push` method, the `item` is added to the end of the list using the `append` method, which simulates adding an element to the top of the stack.\n",
    "\n",
    "6. `def pop(self):`: This method is used to pop (remove) the top item from the stack. It checks if the stack is not empty (i.e., its length is greater than 0). If the stack is not empty, it removes and returns the last item from the list (the top item). If the stack is empty, it returns None, indicating an empty stack.\n",
    "\n",
    "7. `if len(self.stack) > 0:`: This line checks if the stack is not empty by comparing the length of the stack (number of elements) to 0.\n",
    "\n",
    "8. `return self.stack.pop()`: If the stack is not empty, the `pop` method is called on the `self.stack` list to remove and return the last element in the list, which is the top element of the stack.\n",
    "\n",
    "9. `else:`: If the stack is empty, this block is executed.\n",
    "\n",
    "10. `return None`: In case of an empty stack, this line returns `None` to indicate that there's no item to pop.\n",
    "\n",
    "11. `def peek(self):`: This method is used to peek at the top item of the stack without removing it. It's similar to the `pop` method but doesn't remove the top item.\n",
    "\n",
    "12. `if len(self.stack) > 0:`: Similar to the `pop` method, this line checks if the stack is not empty.\n",
    "\n",
    "13. `return self.stack[len(self.stack)-1]`: If the stack is not empty, it returns the last item in the list (the top item) using the index `len(self.stack)-1`.\n",
    "\n",
    "14. `else:`: If the stack is empty, this block is executed.\n",
    "\n",
    "15. `return None`: In case of an empty stack, this line returns `None` to indicate that there's no item to peek at.\n",
    "\n",
    "16. `def __str__(self):`: This is a special method used to define how the object should be represented as a string when it's converted to a string, e.g., when using `str(stack_instance)`.\n",
    "\n",
    "17. `return str(self.stack)`: This method returns a string representation of the stack by converting the `self.stack` list to a string using the `str` function.\n",
    "\n",
    "This code defines a basic stack with methods for pushing, popping, and peeking at the top item. It also provides a string representation of the stack for easy debugging and display."
   ]
  },
  {
   "cell_type": "code",
   "execution_count": null,
   "id": "4a0188fd",
   "metadata": {},
   "outputs": [],
   "source": []
  }
 ],
 "metadata": {
  "kernelspec": {
   "display_name": "Python 3 (ipykernel)",
   "language": "python",
   "name": "python3"
  },
  "language_info": {
   "codemirror_mode": {
    "name": "ipython",
    "version": 3
   },
   "file_extension": ".py",
   "mimetype": "text/x-python",
   "name": "python",
   "nbconvert_exporter": "python",
   "pygments_lexer": "ipython3",
   "version": "3.13.2"
  }
 },
 "nbformat": 4,
 "nbformat_minor": 5
}
