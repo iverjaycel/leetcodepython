{
 "cells": [
  {
   "cell_type": "markdown",
   "id": "7f3a7662",
   "metadata": {},
   "source": [
    "Certainly! Let's create a Python code example to implement dictionaries and explain how they work.\n",
    "\n",
    "**Example: Using Dictionaries in Python**\n",
    "\n",
    "```python\n",
    "# Creating a dictionary to store information about a person\n",
    "person = {\n",
    "    \"first_name\": \"John\",\n",
    "    \"last_name\": \"Doe\",\n",
    "    \"age\": 30,\n",
    "    \"city\": \"New York\"\n",
    "}\n",
    "\n",
    "# Accessing values in the dictionary using keys\n",
    "print(\"First Name:\", person[\"first_name\"])\n",
    "print(\"Last Name:\", person[\"last_name\"])\n",
    "print(\"Age:\", person[\"age\"])\n",
    "print(\"City:\", person[\"city\"])\n",
    "\n",
    "# Modifying a value in the dictionary\n",
    "person[\"age\"] = 31\n",
    "\n",
    "# Adding a new key-value pair to the dictionary\n",
    "person[\"email\"] = \"john@example.com\"\n",
    "\n",
    "# Iterating over the keys and values in the dictionary\n",
    "print(\"\\nKey-Value Pairs:\")\n",
    "for key, value in person.items():\n",
    "    print(key + \":\", value)\n",
    "```\n",
    "\n",
    "**Explanation**:\n",
    "\n",
    "1. We create a dictionary named `person` to store information about a person. The dictionary consists of key-value pairs, where the keys are strings (e.g., \"first_name\") and the values can be of various data types (e.g., \"John\" for \"first_name\" and 30 for \"age\").\n",
    "\n",
    "2. We access values in the dictionary by using square brackets and the key (e.g., `person[\"first_name\"]` retrieves the value associated with the \"first_name\" key).\n",
    "\n",
    "3. We modify the \"age\" key in the dictionary, changing the age from 30 to 31.\n",
    "\n",
    "4. We add a new key-value pair to the dictionary by assigning a value to a previously unused key, in this case, \"email\" is added.\n",
    "\n",
    "5. We iterate over the dictionary using a `for` loop with `items()`. This loop allows us to access both the keys and their corresponding values. In the loop, we print out all the key-value pairs in the dictionary.\n",
    "\n",
    "When you run this code, you'll see how dictionaries can be used to store and manipulate data efficiently. They are particularly useful when you need to associate information or attributes with specific keys, as shown in this example."
   ]
  },
  {
   "cell_type": "code",
   "execution_count": 2,
   "id": "6a4289b0",
   "metadata": {},
   "outputs": [
    {
     "name": "stdout",
     "output_type": "stream",
     "text": [
      "First Name: John\n",
      "Last Name: Doe\n",
      "Age: 30\n",
      "City: New York\n",
      "\n",
      "Key-Value Pairs:\n",
      "first_name: John\n",
      "last_name: Doe\n",
      "age: 31\n",
      "city: New York\n",
      "email: john@example.com\n"
     ]
    }
   ],
   "source": [
    "# Creating a dictionary to store information about a person\n",
    "person = {\n",
    "    \"first_name\": \"John\",\n",
    "    \"last_name\": \"Doe\",\n",
    "    \"age\": 30,\n",
    "    \"city\": \"New York\"\n",
    "}\n",
    "\n",
    "# Accessing values in the dictionary using keys\n",
    "print(\"First Name:\", person[\"first_name\"])\n",
    "print(\"Last Name:\", person[\"last_name\"])\n",
    "print(\"Age:\", person[\"age\"])\n",
    "print(\"City:\", person[\"city\"])\n",
    "\n",
    "# Modifying a value in the dictionary\n",
    "person[\"age\"] = 31\n",
    "\n",
    "# Adding a new key-value pair to the dictionary\n",
    "person[\"email\"] = \"john@example.com\"\n",
    "\n",
    "# Iterating over the keys and values in the dictionary\n",
    "print(\"\\nKey-Value Pairs:\")\n",
    "for key, value in person.items():\n",
    "    print(key + \":\", value)\n"
   ]
  },
  {
   "cell_type": "code",
   "execution_count": null,
   "id": "b0d11be8",
   "metadata": {},
   "outputs": [],
   "source": []
  }
 ],
 "metadata": {
  "kernelspec": {
   "display_name": "Python 3 (ipykernel)",
   "language": "python",
   "name": "python3"
  },
  "language_info": {
   "codemirror_mode": {
    "name": "ipython",
    "version": 3
   },
   "file_extension": ".py",
   "mimetype": "text/x-python",
   "name": "python",
   "nbconvert_exporter": "python",
   "pygments_lexer": "ipython3",
   "version": "3.10.12"
  }
 },
 "nbformat": 4,
 "nbformat_minor": 5
}
