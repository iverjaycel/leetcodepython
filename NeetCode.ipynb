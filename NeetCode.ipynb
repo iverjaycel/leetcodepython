{
 "cells": [
  {
   "cell_type": "markdown",
   "id": "df03daa7-584d-4eb4-8dda-3f792437fa04",
   "metadata": {},
   "source": [
    "Maximum val arr "
   ]
  },
  {
   "cell_type": "code",
   "execution_count": 5,
   "id": "1c9734a3-b07b-471f-9a43-4ff18fe69662",
   "metadata": {},
   "outputs": [
    {
     "name": "stdout",
     "output_type": "stream",
     "text": [
      "4\n"
     ]
    }
   ],
   "source": [
    "def find_max(arr):\n",
    "    if not arr:\n",
    "        return None \n",
    "\n",
    "    max_elem = arr[0]\n",
    "\n",
    "    for i in range(1,len(arr)):\n",
    "        if arr[i] > max_elem:\n",
    "            max_elem = arr[i] \n",
    "    return max_elem\n",
    "\n",
    "my_arr = [0,1,2,3,4]\n",
    "maximum = find_max(my_arr)\n",
    "print(maximum)"
   ]
  },
  {
   "cell_type": "markdown",
   "id": "fd77ec73-9b01-49ba-a85b-5093dbdee4db",
   "metadata": {},
   "source": [
    "Lowest Val arr"
   ]
  },
  {
   "cell_type": "code",
   "execution_count": 3,
   "id": "d3572b88-9119-47dc-88df-7fc70b46300f",
   "metadata": {},
   "outputs": [
    {
     "name": "stdout",
     "output_type": "stream",
     "text": [
      "0\n"
     ]
    }
   ],
   "source": [
    "def find_low(arr):\n",
    "    if not arr:\n",
    "        return None \n",
    "    low_elem=arr[0]\n",
    "\n",
    "    for i in range(1,len(arr)):\n",
    "        if arr[i] < low_elem:\n",
    "            low_elem = arr[i]\n",
    "    return low_elem\n",
    "\n",
    "my_arr = [0,1,2,3,4]\n",
    "lowest = find_low(my_arr)\n",
    "print(lowest)"
   ]
  },
  {
   "cell_type": "markdown",
   "id": "acaf4697-db43-4656-a22c-2fd98a162974",
   "metadata": {},
   "source": [
    "Contains Duplicate\n",
    "\n",
    "Given an integer array nums, return true if any value appears at least twice in the array, and return false if every element is distinct.\n",
    "\n",
    "Input: nums = [1, 2, 3, 3]\n",
    "Output: true\n",
    "\n",
    "Input: nums = [1, 2, 3, 4]\n",
    "Output: false\n"
   ]
  },
  {
   "cell_type": "code",
   "execution_count": 13,
   "id": "125ff764-0080-4f89-be95-6266f94f1913",
   "metadata": {},
   "outputs": [
    {
     "name": "stdout",
     "output_type": "stream",
     "text": [
      "Step 1: Checking number 1\n",
      "   Seen so far: set()\n",
      "   ➕ Added 1 to seen set\n",
      "\n",
      "Step 2: Checking number 2\n",
      "   Seen so far: {1}\n",
      "   ➕ Added 2 to seen set\n",
      "\n",
      "Step 3: Checking number 3\n",
      "   Seen so far: {1, 2}\n",
      "   ➕ Added 3 to seen set\n",
      "\n",
      "Step 4: Checking number 3\n",
      "   Seen so far: {1, 2, 3}\n",
      "   ⚠️ Duplicate found: 3\n",
      "\n",
      "🔚 Final Output: True\n"
     ]
    }
   ],
   "source": [
    "class Solution:\n",
    "    def containsDuplicate(self, nums: list[int]) -> bool:\n",
    "        # 🏯 This is our tracking set to store numbers we've already seen.\n",
    "        seen = set()\n",
    "        \n",
    "        # 🥷 We now loop through each number in the input array\n",
    "        for i, num in enumerate(nums):\n",
    "            print(f\"Step {i+1}: Checking number {num}\")\n",
    "            print(f\"   Seen so far: {seen}\")\n",
    "            \n",
    "            # ⚠️ If the number is already in the set, it means we've seen it before — it's a duplicate!\n",
    "            if num in seen:\n",
    "                print(f\"   ⚠️ Duplicate found: {num}\")\n",
    "                return True\n",
    "            \n",
    "            # 📝 If not, we add it to the set and continue checking\n",
    "            seen.add(num)\n",
    "            print(f\"   ➕ Added {num} to seen set\\n\")\n",
    "        \n",
    "        # ✅ If we finish the loop without finding any duplicates\n",
    "        print(\"✅ No duplicates found in the entire list.\")\n",
    "        return False\n",
    "\n",
    "\n",
    "# 🔍 Test it\n",
    "solution = Solution()\n",
    "test_case = [1, 2, 3, 3]  # You can change this to other arrays\n",
    "result = solution.containsDuplicate(test_case)\n",
    "print(f\"\\n🔚 Final Output: {result}\")\n"
   ]
  },
  {
   "cell_type": "markdown",
   "id": "9a34ea61-e328-419a-8db0-1f3503b8f631",
   "metadata": {},
   "source": [
    "#### Hoow MajorityElement works its flow on how the data moves \n",
    "\n",
    "nums = [2, 2, 1, 1, 1, 2, 2]\n",
    "\n",
    "count = {}\n",
    "```\n",
    "num = 2 → count = {2: 1}\n",
    "num = 2 → count = {2: 2}\n",
    "num = 1 → count = {2: 2, 1: 1}\n",
    "num = 1 → count = {2: 2, 1: 2}\n",
    "num = 1 → count = {2: 2, 1: 3}\n",
    "num = 2 → count = {2: 3, 1: 3}\n",
    "num = 2 → count = {2: 4, 1: 3}\n",
    "check → 4 > 7 // 2 = 3 ✅\n",
    "return 2\n",
    "```\n"
   ]
  },
  {
   "cell_type": "code",
   "execution_count": null,
   "id": "726b0a3c-a94a-4680-abf1-10a1a36064f3",
   "metadata": {},
   "outputs": [],
   "source": [
    "def majorityElement(nums: list[int]) -> int:\n",
    "    count = {}\n",
    "    for num in nums \n",
    "        count[num] = count.get(num,0) +1 \n",
    "        if count[num] > len(nums) //2:\n",
    "            return num"
   ]
  },
  {
   "cell_type": "code",
   "execution_count": 7,
   "id": "31d6d150-a6e2-47a0-8a97-c01ff3eaca7d",
   "metadata": {},
   "outputs": [
    {
     "name": "stdout",
     "output_type": "stream",
     "text": [
      "Number: 2, Count so far: {2: 1}\n",
      "Number: 2, Count so far: {2: 2}\n",
      "Number: 1, Count so far: {2: 2, 1: 1}\n",
      "Number: 1, Count so far: {2: 2, 1: 2}\n",
      "Number: 1, Count so far: {2: 2, 1: 3}\n",
      "Number: 2, Count so far: {2: 3, 1: 3}\n",
      "Number: 2, Count so far: {2: 4, 1: 3}\n",
      "✅ Majority Element Found: 2\n"
     ]
    },
    {
     "data": {
      "text/plain": [
       "2"
      ]
     },
     "execution_count": 7,
     "metadata": {},
     "output_type": "execute_result"
    }
   ],
   "source": [
    "def majorityElement(nums: list[int]) -> int:\n",
    "    count = {}\n",
    "    for num in nums:\n",
    "        count[num] = count.get(num, 0) + 1\n",
    "        print(f\"Number: {num}, Count so far: {count}\")\n",
    "        if count[num] > len(nums) // 2:\n",
    "            print(f\"✅ Majority Element Found: {num}\")\n",
    "            return num\n",
    "\n",
    "# Run\n",
    "majorityElement([2, 2, 1, 1, 1, 2, 2])"
   ]
  },
  {
   "cell_type": "code",
   "execution_count": null,
   "id": "79388590-917a-4cb8-a6ea-0fd83d827ce7",
   "metadata": {},
   "outputs": [],
   "source": [
    "def containsDuplicate(nums: list[int]) -> bool:\n",
    "    seen = set() \n",
    "        for num in nums:\n",
    "            if num in seen:\n",
    "                return True     \n",
    "            seen.add(num)\n",
    "        return False "
   ]
  },
  {
   "cell_type": "code",
   "execution_count": null,
   "id": "6dd4fe75-240d-462e-ba86-3e21c3433ac8",
   "metadata": {},
   "outputs": [],
   "source": [
    "def findMax(nums: list[int]) -> int:\n",
    "    max_val = nums[0]\n",
    "    for num in nums:\n",
    "        if num > max_val:\n",
    "            max_val = num\n",
    "    return max_val"
   ]
  },
  {
   "cell_type": "code",
   "execution_count": 5,
   "id": "6dab8c97-da13-4f7c-8b6b-58d2ef3e7f59",
   "metadata": {},
   "outputs": [],
   "source": [
    "def findMin(nums: list[int]) -> int:\n",
    "    min_val = nums[0]\n",
    "    for num in nums:\n",
    "        if num < min_val:\n",
    "            min_val = num \n",
    "    return max_val "
   ]
  },
  {
   "cell_type": "code",
   "execution_count": 12,
   "id": "9ae54712-646c-40cb-a219-98d48970d6fd",
   "metadata": {},
   "outputs": [
    {
     "name": "stdout",
     "output_type": "stream",
     "text": [
      "{1: 2, 2: 3, 3: 1}\n"
     ]
    }
   ],
   "source": [
    "def countFreq(nums: list[int]) -> dict:\n",
    "    freq = {}\n",
    "    for num in nums:\n",
    "        if num in freq:\n",
    "             freq[num] += 1 \n",
    "        else: \n",
    "             freq[num] = 1 \n",
    "    return freq \n",
    "\n",
    "print(countFreq([1, 2, 2, 3, 1, 2]))"
   ]
  },
  {
   "cell_type": "code",
   "execution_count": 14,
   "id": "60596ce2-3720-4d06-8381-7b8a162416ee",
   "metadata": {},
   "outputs": [],
   "source": [
    "def majorityElement(nums: list[int]) -> int:\n",
    "    count = 0 \n",
    "    candidate = None \n",
    "\n",
    "    for i, num in enumerate(nums):\n",
    "        print(f\"Loop {i+1}: num = {num}\")\n",
    "        if count == 0:\n",
    "            candidate = num\n",
    "            print(f\"  count is 0, set new candidate = {candidate}\")\n",
    "        if num == candidate:\n",
    "            count += 1\n",
    "            print(f\"  num == candidate → count incremented to {count}\")\n",
    "        else:\n",
    "            count -= 1\n",
    "            print(f\"  num != candidate → count decremented to {count}\")\n",
    "        print(f\"  Current candidate: {candidate}, Current count: {count}\")\n",
    "        print(\"-\" * 30)\n",
    "\n",
    "    print(f\"\\nFinal majority candidate: {candidate}\")\n",
    "    return candidate\n"
   ]
  },
  {
   "cell_type": "markdown",
   "id": "e08866c1-db54-4f84-a97e-ae3f587a0004",
   "metadata": {},
   "source": [
    "###### Visual output of the code Mjority Element \n",
    "```\n",
    "[0] Count is 0, new candidate chosen: 2\n",
    "[0] num == candidate (2), count incremented to 1\n",
    "[1] num == candidate (2), count incremented to 2\n",
    "[2] num != candidate (1), count decremented to 1\n",
    "[3] num != candidate (1), count decremented to 0\n",
    "[4] Count is 0, new candidate chosen: 1\n",
    "[4] num == candidate (1), count incremented to 1\n",
    "[5] num != candidate (2), count decremented to 0\n",
    "[6] Count is 0, new candidate chosen: 2\n",
    "[6] num == candidate (2), count incremented to 1\n",
    "Final candidate (Majority Element): 2\n",
    "\n",
    "```"
   ]
  },
  {
   "cell_type": "code",
   "execution_count": 15,
   "id": "f6fe8bdd-785d-4a53-877d-5447ba72d2d7",
   "metadata": {},
   "outputs": [
    {
     "data": {
      "text/plain": [
       "2"
      ]
     },
     "execution_count": 15,
     "metadata": {},
     "output_type": "execute_result"
    }
   ],
   "source": [
    "def majorityElement(nums: list[int]) -> int:\n",
    "    count = 0 \n",
    "    candidate = None \n",
    "\n",
    "    for num in nums: \n",
    "        if count == 0:\n",
    "            candidate = num \n",
    "        if num == candidate:\n",
    "            count += 1 \n",
    "        else:\n",
    "            count -= 1 \n",
    "        return candidate\n",
    "        \n",
    "nums = [2,2,1,1,1,2,2]\n",
    "majorityElement(nums)"
   ]
  },
  {
   "cell_type": "raw",
   "id": "74d0194f-b094-4895-aca8-1fa774c2a691",
   "metadata": {},
   "source": [
    "nums = [2, 7, 11, 15]\n",
    "target = 9"
   ]
  },
  {
   "cell_type": "code",
   "execution_count": null,
   "id": "6db785a8-a0e4-4d96-b858-018df79684fe",
   "metadata": {},
   "outputs": [],
   "source": [
    "def twoSum(nums: list[int], target: int) -> list[int]:\n",
    "    hashmap = {}\n",
    "    print(f\"Initial hashmap: {hashmap}\\n\")\n",
    "\n",
    "    for i, num in enumerate(nums):\n",
    "        print(f\"Loop {i}:\")\n",
    "        print(f\"  Current num: {num}\")\n",
    "        \n",
    "        complement = target - num\n",
    "        print(f\"  Needed complement: {complement}\")\n",
    "        \n",
    "        if complement in hashmap:\n",
    "            print(f\"  ✅ Found! {complement} exists in hashmap at index {hashmap[complement]}\")\n",
    "            print(f\"  Returning: [{hashmap[complement]}, {i}]\\n\")\n",
    "            return [hashmap[complement], i]\n",
    "        else:\n",
    "            print(f\"  ❌ Complement {complement} not in hashmap.\")\n",
    "        \n",
    "        hashmap[num] = i\n",
    "        print(f\"  🔁 Updated hashmap: {hashmap}\\n\")\n",
    "\n",
    "    print(\"No two sum solution found (this should not happen in valid input).\")\n",
    "    return []\n",
    "\n",
    "result = twoSum([2, 7, 11, 15], 9)\n",
    "print(f\"Final result: {result}\")\n"
   ]
  },
  {
   "cell_type": "code",
   "execution_count": 18,
   "id": "624bb973-3cd3-4f97-b5bd-440be196baf9",
   "metadata": {},
   "outputs": [
    {
     "name": "stdout",
     "output_type": "stream",
     "text": [
      "[0, 1]\n"
     ]
    }
   ],
   "source": [
    "def twoSum(nums: list[int], target: int) -> list[int]:\n",
    "    hashmap ={}\n",
    "\n",
    "    for i , num in enumerate(nums):\n",
    "        complement = target - num \n",
    "        if complement in hashmap:\n",
    "            return [hashmap[complement],i]\n",
    "        hashmap[num] = i \n",
    "print(twoSum([2, 7, 11, 15], 9)) "
   ]
  },
  {
   "cell_type": "code",
   "execution_count": 22,
   "id": "cf25c7c1-645a-4e13-81d1-76ef95a0a547",
   "metadata": {},
   "outputs": [
    {
     "name": "stdout",
     "output_type": "stream",
     "text": [
      "[0, 1]\n"
     ]
    }
   ],
   "source": [
    "def twoSum(nums: list[int], target: int) -> list[int]:\n",
    "    hashmap = {}\n",
    "\n",
    "    for i, num in enumerate(nums):\n",
    "        complement = target - num \n",
    "        if complement in hashmap:\n",
    "            return[hashmap[complement],i]\n",
    "        hashmap[num] = i \n",
    "print(twoSum([2, 7, 11, 15], 9)) "
   ]
  },
  {
   "cell_type": "markdown",
   "id": "aaa2b484-e204-4ecb-9cd4-25627ee00ca9",
   "metadata": {},
   "source": [
    "#### AI Promp to explain the algorithm \n",
    "\n",
    "```\n",
    "can you explain to me how the out put works per loop I want to visualize it so that I can understand it I want to learn it by mimicing the computer like a clock loop per loop lets go\n",
    "```"
   ]
  },
  {
   "cell_type": "raw",
   "id": "21d064f6-a0b1-4645-bd01-d8b9fad1c2aa",
   "metadata": {},
   "source": [
    "LeetCode Style practice \n",
    "July 22 , 2025 \n",
    "\n",
    "\n",
    "def twoSum(nums: list[int], target: int) -> list[int]:\n",
    "def majorityElement(nums: list[int]) -> int:\n",
    "def countFreq(nums: list[int]) -> dict:\n",
    "def containsDuplicate(nums: list[int]) -> bool:\n",
    "def findMax(nums: list[int]) -> int:\n",
    "def findMin(nums: list[int]) -> int:"
   ]
  },
  {
   "cell_type": "code",
   "execution_count": 19,
   "id": "76d8bca6-38f5-4f17-8b74-ced222c9aedd",
   "metadata": {
    "scrolled": true
   },
   "outputs": [
    {
     "name": "stdout",
     "output_type": "stream",
     "text": [
      "[0, 1]\n"
     ]
    }
   ],
   "source": [
    "def twoSum(nums: list[int], target: int) -> list[int]:\n",
    "     hashmap = {} \n",
    "\n",
    "     for i , num in enumerate(nums): \n",
    "        complemenet = target - num \n",
    "        if complemenet in hashmap: \n",
    "            return [hashmap[complemenet],i]\n",
    "        hashmap[num] = i \n",
    "        \n",
    "print(twoSum([2, 7, 11, 15], 9)) "
   ]
  },
  {
   "cell_type": "code",
   "execution_count": null,
   "id": "50e5a3e0-982e-41b9-83d1-e99f41a40cbb",
   "metadata": {},
   "outputs": [],
   "source": [
    "def majorityElement(nums: list[int]) -> int:\n",
    "   count = 0 \n",
    "   candidate = None \n",
    "\n",
    "    for num in nums:\n",
    "        if count == 0: \n",
    "            candidate = num \n",
    "        if num == candidate: \n",
    "            count += 1 \n",
    "        else:\n",
    "            count -= 1 \n",
    "\n",
    "    return candidate "
   ]
  },
  {
   "cell_type": "code",
   "execution_count": null,
   "id": "ef63e057-1623-4eb7-a4eb-c7aec5b537be",
   "metadata": {},
   "outputs": [],
   "source": [
    "def countFreq(nums: list[int]) -> dict:\n",
    "    freq = {} \n",
    "    for n in nums: \n",
    "        if n in freq:     \n",
    "            freq[n] += 1 \n",
    "    else: \n",
    "        freq[n] = n \n",
    "    return freq "
   ]
  },
  {
   "cell_type": "code",
   "execution_count": null,
   "id": "b97d117e-42f9-4478-81f5-9728ba23bad5",
   "metadata": {},
   "outputs": [],
   "source": [
    "def containsDuplicate(nums: list[int]) -> bool:\n",
    "    seen = set() \n",
    "    for n in nums:\n",
    "        if n in seen:\n",
    "            return True \n",
    "        seen.add(n)\n",
    "    return False "
   ]
  },
  {
   "cell_type": "code",
   "execution_count": null,
   "id": "bfcffe0d-da15-480d-a128-35db5f516bb2",
   "metadata": {},
   "outputs": [],
   "source": [
    "def findMax(nums: list[int]) -> int:\n",
    "    max_val = nums[0]\n",
    "    for n in nums: \n",
    "        if n > max_val:\n",
    "            max_val = n \n",
    "    return max_val "
   ]
  },
  {
   "cell_type": "code",
   "execution_count": null,
   "id": "0600fac9-f8fb-46c9-a3e0-8aabd9000cf2",
   "metadata": {},
   "outputs": [],
   "source": [
    "def findMin(nums: list[int]) -> int:\n",
    "    min_val = nums[0]\n",
    "    for n in nums:\n",
    "        if n < min_val:\n",
    "            min_val = n \n",
    "    return min_val "
   ]
  },
  {
   "cell_type": "raw",
   "id": "6f3f415d-611f-424a-88b8-b3313cfed8ee",
   "metadata": {},
   "source": [
    "Drill stage 2 \n",
    "\n",
    "LeetCode Style practice \n",
    "July 22 , 2025 \n",
    "\n",
    "findMax(nums: list[int]) -> int\n",
    "findMin(nums: list[int]) -> int\n",
    "containsDuplicate(nums: list[int]) -> bool\n",
    "majorityElement(nums: list[int]) -> int\n",
    "countFreq(nums: list[int]) -> dict\n",
    "twoSum(nums: list[int], target: int) -> list[int]"
   ]
  },
  {
   "cell_type": "code",
   "execution_count": null,
   "id": "c5337e9d-8af1-477f-aa91-c45a59c75415",
   "metadata": {},
   "outputs": [],
   "source": [
    "def containsDuplicate(nums: list[int]) -> bool\n",
    "     seen = set() \n",
    "     for num in nums:\n",
    "         if num in seen: \n",
    "            return True \n",
    "        seen.add(nums)\n",
    "    return False "
   ]
  },
  {
   "cell_type": "code",
   "execution_count": null,
   "id": "923257cf-af7a-45da-8ac8-d112c869026c",
   "metadata": {},
   "outputs": [],
   "source": [
    "def majorityElement(nums: list[int]) -> int\n",
    "    count = 0 \n",
    "    candi = None \n",
    "\n",
    "    for num in nums: \n",
    "        if count == 0: \n",
    "            candi = num \n",
    "        if num == candi: \n",
    "            count += 1 \n",
    "        else:\n",
    "            count -= 1 \n",
    "return candi "
   ]
  },
  {
   "cell_type": "code",
   "execution_count": null,
   "id": "932e688c-2b61-4527-b40c-1c374dfc89e3",
   "metadata": {},
   "outputs": [],
   "source": [
    "def twoSum(nums: list[int], target: int) -> list[int]:\n",
    "    hashmap = {} \n",
    "    for i, num in enumerate(nums)\n",
    "        comp = target - num \n",
    "        if comp in hashmap: \n",
    "            return [hashmap[comp],i]\n",
    "    hashmap[num] = i "
   ]
  }
 ],
 "metadata": {
  "kernelspec": {
   "display_name": "Python 3 (ipykernel)",
   "language": "python",
   "name": "python3"
  },
  "language_info": {
   "codemirror_mode": {
    "name": "ipython",
    "version": 3
   },
   "file_extension": ".py",
   "mimetype": "text/x-python",
   "name": "python",
   "nbconvert_exporter": "python",
   "pygments_lexer": "ipython3",
   "version": "3.13.2"
  }
 },
 "nbformat": 4,
 "nbformat_minor": 5
}
