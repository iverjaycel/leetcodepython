{
 "cells": [
  {
   "cell_type": "markdown",
   "id": "a5805dbf",
   "metadata": {},
   "source": [
    "## Python 1Hr For Beginners \n"
   ]
  },
  {
   "cell_type": "markdown",
   "id": "1a51ffcc",
   "metadata": {},
   "source": [
    "### Variables \n"
   ]
  },
  {
   "cell_type": "code",
   "execution_count": 1,
   "id": "548dfadf",
   "metadata": {},
   "outputs": [],
   "source": [
    "variable_1 = 10\n",
    "variable_2 = \"Hello, world!\"\n",
    "variable_3 = 3.14\n",
    "is_active = True\n",
    "user_name = \"Alice\"\n"
   ]
  },
  {
   "cell_type": "markdown",
   "id": "df934350",
   "metadata": {},
   "source": [
    "### Input\n",
    "Taking inputs using python\n",
    "\n"
   ]
  },
  {
   "cell_type": "code",
   "execution_count": 1,
   "id": "d6f3747c",
   "metadata": {},
   "outputs": [
    {
     "name": "stdout",
     "output_type": "stream",
     "text": [
      "What is your name? yawa\n",
      "Hello yawa\n"
     ]
    }
   ],
   "source": [
    "name = input(\"What is your name? \")\n",
    "print(\"Hello \" + name) #String Concatination "
   ]
  },
  {
   "cell_type": "markdown",
   "id": "6d5a6ccc",
   "metadata": {},
   "source": [
    "### Type Conversion \n",
    "Type conversion functions in Python:\n",
    "\n",
    "1. **`int(x)`**: Converts `x` to an integer.\n",
    "2. **`float(x)`**: Converts `x` to a floating-point number.\n",
    "3. **`str(x)`**: Converts `x` to a string.\n",
    "4. **`bool(x)`**: Converts `x` to a Boolean value.\n",
    "5. **`list(x)`**: Converts `x` to a list.\n",
    "6. **`tuple(x)`**: Converts `x` to a tuple.\n",
    "7. **`dict(x)`**: Converts `x` to a dictionary.\n",
    "8. **`set(x)`**: Converts `x` to a set.\n"
   ]
  },
  {
   "cell_type": "code",
   "execution_count": 8,
   "id": "42e7729a",
   "metadata": {},
   "outputs": [
    {
     "name": "stdout",
     "output_type": "stream",
     "text": [
      "Enter your birthyear: 1999\n",
      "24\n"
     ]
    }
   ],
   "source": [
    "birth_year = input(\"Enter your birthyear: \")\n",
    "age = 2023 - int(birth_year) #Type Conversion\n",
    "print(age) "
   ]
  },
  {
   "cell_type": "code",
   "execution_count": 13,
   "id": "349fb170",
   "metadata": {},
   "outputs": [
    {
     "name": "stdout",
     "output_type": "stream",
     "text": [
      "first 12.5\n",
      "second 12.5\n",
      "sum 25.0\n"
     ]
    }
   ],
   "source": [
    "first = input(\"first \")\n",
    "second = input(\"second \")\n",
    "\n",
    "sum = float(first)+float(second) #Type Conversion \n",
    "\n",
    "print(\"sum \" + str(sum)) #string Type COnversion "
   ]
  },
  {
   "cell_type": "code",
   "execution_count": 14,
   "id": "c08b4896",
   "metadata": {},
   "outputs": [
    {
     "name": "stdout",
     "output_type": "stream",
     "text": [
      "first 12.5\n",
      "second 12.5\n",
      "sum 25.0\n"
     ]
    }
   ],
   "source": [
    "first = float(input(\"first \"))  #Type Conversion\n",
    "second = float(input(\"second \"))  #Type Conversion\n",
    "\n",
    "sum = first + second \n",
    "\n",
    "print(\"sum \" + str(sum)) #string Type COnversion "
   ]
  },
  {
   "cell_type": "markdown",
   "id": "6bdb4688",
   "metadata": {},
   "source": [
    "### Arithmetic Operators \n",
    "\n",
    "1. Exponentiation (**)\n",
    "2. Unary positive (+) and unary negation (-)\n",
    "3. Multiplication (*), division (/), floor division (//), and modulo (%)\n",
    "4. Addition (+) and subtraction (-)\n",
    "\n",
    "Python follows the standard mathematical order of operations, also known as PEMDAS/BODMAS, where operations within parentheses are evaluated first, followed by exponentiation, then multiplication and division, and finally addition and subtraction."
   ]
  },
  {
   "cell_type": "code",
   "execution_count": 16,
   "id": "37dca73f",
   "metadata": {},
   "outputs": [
    {
     "name": "stdout",
     "output_type": "stream",
     "text": [
      "26\n"
     ]
    }
   ],
   "source": [
    "x =(10+3) * 2 \n",
    "print(x)"
   ]
  },
  {
   "cell_type": "markdown",
   "id": "75aa2c88",
   "metadata": {},
   "source": [
    "### Comparison Operators \n",
    "\n",
    "Comparison operators in Python:\n",
    "\n",
    "1. **Equal**: `==`\n",
    "2. **Not Equal**: `!=`\n",
    "3. **Greater Than**: `>`\n",
    "4. **Less Than**: `<`\n",
    "5. **Greater Than or Equal**: `>=`\n",
    "6. **Less Than or Equal**: `<=`\n",
    "\n",
    "These operators are used to compare values and return Boolean results (`True` or `False`) based on whether the comparison is true or not."
   ]
  },
  {
   "cell_type": "markdown",
   "id": "02566ce9",
   "metadata": {},
   "source": [
    "### Logical Operators \n",
    "\n",
    "logical operators in Python:\n",
    "\n",
    "1. **Logical AND**: `and`\n",
    "2. **Logical OR**: `or`\n",
    "3. **Logical NOT**: `not`\n",
    "\n",
    "These operators are used to perform logical operations on Boolean values and expressions.\n"
   ]
  },
  {
   "cell_type": "code",
   "execution_count": 18,
   "id": "38bc0708",
   "metadata": {
    "scrolled": true
   },
   "outputs": [
    {
     "name": "stdout",
     "output_type": "stream",
     "text": [
      "True\n"
     ]
    }
   ],
   "source": [
    "price = 5 \n",
    "print(price > 10 or price < 30)"
   ]
  },
  {
   "cell_type": "markdown",
   "id": "13bf9405",
   "metadata": {},
   "source": [
    "#### IF statements \n",
    "\n",
    "Certainly, here's the basic structure of an `if` statement in Python:\n",
    "\n",
    "```python\n",
    "if condition:\n",
    "    # Code to execute if the condition is True\n",
    "```\n",
    "\n",
    "And here's the structure of an `if` statement with an optional `else` block:\n",
    "\n",
    "```python\n",
    "if condition:\n",
    "    # Code to execute if the condition is True\n",
    "else:\n",
    "    # Code to execute if the condition is False\n",
    "```\n",
    "\n",
    "You can also use `elif` (short for \"else if\") to include multiple conditions:\n",
    "\n",
    "```python\n",
    "if condition1:\n",
    "    # Code to execute if condition1 is True\n",
    "elif condition2:\n",
    "    # Code to execute if condition2 is True\n",
    "elif condition3:\n",
    "    # Code to execute if condition3 is True\n",
    "else:\n",
    "    # Code to execute if none of the conditions are True\n",
    "```\n",
    "\n",
    "Remember, the code block after the `if`, `elif`, or `else` keywords should be indented to indicate the scope of the code that should be executed based on the conditions."
   ]
  },
  {
   "cell_type": "markdown",
   "id": "3de5802e",
   "metadata": {},
   "source": [
    "### While loop\n",
    "\n",
    "With the while loop we can execute a set of statements as long as a condition is true. \n"
   ]
  },
  {
   "cell_type": "code",
   "execution_count": 2,
   "id": "7e4c01d6",
   "metadata": {},
   "outputs": [
    {
     "name": "stdout",
     "output_type": "stream",
     "text": [
      "1\n",
      "2\n",
      "3\n",
      "4\n",
      "5\n"
     ]
    }
   ],
   "source": [
    "i = 1 \n",
    "while i <= 5:\n",
    "    print(i)\n",
    "    i=i+1"
   ]
  },
  {
   "cell_type": "markdown",
   "id": "8a0c5344",
   "metadata": {},
   "source": [
    "### List\n",
    "Lists are used to store multiple items in a single variable.\n",
    "\n",
    "\n",
    "   "
   ]
  },
  {
   "cell_type": "code",
   "execution_count": 8,
   "id": "487b67c7",
   "metadata": {},
   "outputs": [
    {
     "name": "stdout",
     "output_type": "stream",
     "text": [
      "jake\n",
      "marry\n",
      "sam\n",
      "['jake', 'mary', 'sam']\n",
      "['jake', 'mary', 'sam', 'marry']\n"
     ]
    }
   ],
   "source": [
    "names = [\"jhon\",\"mary\",\"sam\",\"marry\"]\n",
    "names[0] = \"jake\" #acces element and change value \n",
    "print(names[0])  # zero is the frist element \n",
    "print(names[-1]) # -1 is the end of the list the last element\n",
    "print(names[-2]) # -2 is the 2nd to the last element\n",
    "print(names[0:3])# print the from index 0-3 exluding the last  \n",
    "print(names)\n"
   ]
  },
  {
   "cell_type": "markdown",
   "id": "d0486d3b",
   "metadata": {},
   "source": [
    "### List methods"
   ]
  },
  {
   "cell_type": "code",
   "execution_count": 1,
   "id": "4121ba59",
   "metadata": {},
   "outputs": [
    {
     "name": "stdout",
     "output_type": "stream",
     "text": [
      "True\n",
      "5\n",
      "[-1, 1, 2, 4, 5]\n"
     ]
    }
   ],
   "source": [
    "numbers = [1,2,3,4,5]\n",
    "numbers.insert(0, -1) # insert value (index int,object)\n",
    "numbers.remove(3) #remove 3 remove value \n",
    "#numbers.clear() #clear the list \n",
    "print(1 in numbers) #search 1 in list \n",
    "print(len(numbers)) #length of the list \n",
    "print(numbers)"
   ]
  },
  {
   "cell_type": "markdown",
   "id": "5688697a",
   "metadata": {},
   "source": [
    "### For loops \n",
    " list application "
   ]
  },
  {
   "cell_type": "code",
   "execution_count": 5,
   "id": "ce5869a0",
   "metadata": {},
   "outputs": [
    {
     "name": "stdout",
     "output_type": "stream",
     "text": [
      "1\n",
      "2\n",
      "3\n",
      "4\n",
      "5\n"
     ]
    }
   ],
   "source": [
    "numbers = [1,2,3,4,5]\n",
    "\n",
    "for item in numbers: #itrate each number in the list for each iteration this var is going to hold 1 value\n",
    "    print(item) \n",
    "\n"
   ]
  },
  {
   "cell_type": "code",
   "execution_count": 7,
   "id": "86934e76",
   "metadata": {},
   "outputs": [
    {
     "name": "stdout",
     "output_type": "stream",
     "text": [
      "1\n",
      "2\n",
      "3\n",
      "4\n",
      "5\n"
     ]
    }
   ],
   "source": [
    "numbers = [1,2,3,4,5]  # WHile loop list iteration \n",
    "i = 0 \n",
    "\n",
    "while i<len(numbers):\n",
    "    print(numbers[i])\n",
    "    i=i+1\n",
    "    "
   ]
  },
  {
   "cell_type": "markdown",
   "id": "8bd8b9d7",
   "metadata": {},
   "source": [
    "### Range \n",
    "     "
   ]
  },
  {
   "cell_type": "code",
   "execution_count": 14,
   "id": "9b8e8008",
   "metadata": {},
   "outputs": [
    {
     "name": "stdout",
     "output_type": "stream",
     "text": [
      "5\n",
      "7\n",
      "9\n"
     ]
    }
   ],
   "source": [
    "#numbers = range(5) #range of 5 is starting to index 0-5 \n",
    "numbers = range(5, 10) #range of 5 - 9 because starting index is 0\n",
    "numbers = range(5, 10 ,2) # 3rd value is a step so it will step by 2 \n",
    "for number in numbers:\n",
    "    #for number in range(5): #it will stop at 4 because of the range method range(5)\n",
    "    print(number)"
   ]
  },
  {
   "cell_type": "markdown",
   "id": "f8830d63",
   "metadata": {},
   "source": [
    "### Tuples \n",
    "**Unchangable**\n",
    "same as list but you canot change them\n",
    "numbers = (1,2,3)\n"
   ]
  },
  {
   "cell_type": "code",
   "execution_count": 15,
   "id": "bc24dff6",
   "metadata": {},
   "outputs": [],
   "source": [
    "numbers = (1,2,3,4,5)\n",
    "numbers."
   ]
  }
 ],
 "metadata": {
  "kernelspec": {
   "display_name": "Python 3 (ipykernel)",
   "language": "python",
   "name": "python3"
  },
  "language_info": {
   "codemirror_mode": {
    "name": "ipython",
    "version": 3
   },
   "file_extension": ".py",
   "mimetype": "text/x-python",
   "name": "python",
   "nbconvert_exporter": "python",
   "pygments_lexer": "ipython3",
   "version": "3.10.12"
  }
 },
 "nbformat": 4,
 "nbformat_minor": 5
}
