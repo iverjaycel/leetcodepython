{
 "cells": [
  {
   "cell_type": "markdown",
   "id": "5c8f8303-1913-4c22-8cec-beb5da4f0ec1",
   "metadata": {},
   "source": [
    "## Dynamic Array \n",
    "arrays need to be specific data datype they need to be on the same datatype. \n",
    "arrays in python are flexible by value we can extend its value."
   ]
  },
  {
   "cell_type": "code",
   "execution_count": null,
   "id": "ebd7e181-b5bd-41ab-94b0-eb7637b91493",
   "metadata": {},
   "outputs": [],
   "source": [
    "from array import *    # \"*\"  means  import everything you can use all the method\n",
    "\n",
    "vals = array('i',[5,9,8,2,4])\n",
    "\n",
    "for i in range(5):     #using loop to print array \n",
    "    print(vals[i])"
   ]
  },
  {
   "cell_type": "code",
   "execution_count": null,
   "id": "65e9ea9d-5dcc-4349-b794-b3f85714ff45",
   "metadata": {},
   "outputs": [],
   "source": [
    "from array import *    \n",
    "\n",
    "vals = array('i',[5,9,8,2,4])\n",
    "\n",
    "for i in range(len(vals)): #if you dont know the length of the array \n",
    "    print(vals[i])"
   ]
  },
  {
   "cell_type": "code",
   "execution_count": 1,
   "id": "de3add36-3e35-4ffa-9ac7-7cc4c7cb4dad",
   "metadata": {},
   "outputs": [
    {
     "name": "stdout",
     "output_type": "stream",
     "text": [
      "5\n",
      "9\n",
      "8\n",
      "2\n",
      "4\n"
     ]
    }
   ],
   "source": [
    "from array import *    \n",
    "\n",
    "vals = array('i',[5,9,8,2,4])\n",
    "\n",
    "for e in vals: #if you dont know the length of the array \n",
    "    print(e)\n",
    "    "
   ]
  },
  {
   "cell_type": "code",
   "execution_count": 9,
   "id": "fa664165-6f97-4758-b3d3-d7e695a696a4",
   "metadata": {},
   "outputs": [
    {
     "name": "stdout",
     "output_type": "stream",
     "text": [
      "Index 0 Value 5\n",
      "Index 1 Value 10\n",
      "Index 2 Value 15\n",
      "Index 3 Value 20\n",
      "Index 4 Value 25\n"
     ]
    }
   ],
   "source": [
    "num = [5, 10, 15, 20 , 25]\n",
    "\n",
    "#looping thru the array using index \n",
    "for i in range(len(num)):\n",
    "    print(\"Index\",i , \"Value\", num[i])"
   ]
  },
  {
   "cell_type": "code",
   "execution_count": 7,
   "id": "5ab1aec7-f615-4143-af8c-170b9bbfe340",
   "metadata": {},
   "outputs": [
    {
     "name": "stdout",
     "output_type": "stream",
     "text": [
      "value: 5\n",
      "value: 10\n",
      "value: 15\n",
      "value: 20\n",
      "value: 25\n"
     ]
    }
   ],
   "source": [
    "num = [5,10,15,20,25]\n",
    "\n",
    "#skips the index and giving you the values directly\n",
    "for value in num:\n",
    "    print(\"value:\",value)"
   ]
  },
  {
   "cell_type": "markdown",
   "id": "89fbbcc3-1d80-4766-ab44-f7b2e8acbc17",
   "metadata": {},
   "source": [
    "### Modifying elements in a loop\n",
    "\n",
    " 1.Using enumerate()\n",
    " \n",
    " 2.Building a new array with a loop\n",
    " \n",
    " 3.List comprehensions (a very Pythonic way to create lists)"
   ]
  },
  {
   "cell_type": "code",
   "execution_count": 10,
   "id": "3b5d68fe-84d8-46ae-9c76-4bb0c395121e",
   "metadata": {},
   "outputs": [
    {
     "name": "stdout",
     "output_type": "stream",
     "text": [
      "[2, 4, 6, 8, 10]\n"
     ]
    }
   ],
   "source": [
    "num = [1,2,3,4,5]\n",
    "\n",
    "#Double the number inside the list\n",
    "for i in range(len(num)):\n",
    "    num[i] = num[i] * 2\n",
    "\n",
    "print(num)"
   ]
  },
  {
   "cell_type": "code",
   "execution_count": 11,
   "id": "4e5eecf6-1256-4c3e-8942-d6a7f9e9af03",
   "metadata": {},
   "outputs": [
    {
     "name": "stdout",
     "output_type": "stream",
     "text": [
      "Index 0 has value 100\n",
      "Index 1 has value 200\n",
      "Index 2 has value 300\n"
     ]
    }
   ],
   "source": [
    "num =[100,200,300]\n",
    "\n",
    "for index , value in enumerate(num):\n",
    "    print(f\"Index {index} has value {value}\")\n"
   ]
  },
  {
   "cell_type": "code",
   "execution_count": 13,
   "id": "265bf52b-f091-46b6-a9c6-916ad440184d",
   "metadata": {},
   "outputs": [
    {
     "name": "stdout",
     "output_type": "stream",
     "text": [
      "0 100\n",
      "1 200\n",
      "2 300\n"
     ]
    }
   ],
   "source": [
    "# both code are the same \n",
    "for i in range(len(num)):\n",
    "    print(i, num[i])"
   ]
  },
  {
   "cell_type": "code",
   "execution_count": 15,
   "id": "b458786b-61cc-4b03-98d4-b3c4472421f3",
   "metadata": {},
   "outputs": [
    {
     "name": "stdout",
     "output_type": "stream",
     "text": [
      "[1, 4, 9, 16, 25]\n"
     ]
    }
   ],
   "source": [
    "square = []\n",
    "for i in range(1,6): #From 1 to 5\n",
    "    square.append(i*i)\n",
    "print(square)"
   ]
  },
  {
   "cell_type": "code",
   "execution_count": 16,
   "id": "f901ca72-1999-49ba-a857-689c5e02eedd",
   "metadata": {},
   "outputs": [
    {
     "name": "stdout",
     "output_type": "stream",
     "text": [
      "[1, 4, 9, 16, 25]\n"
     ]
    }
   ],
   "source": [
    "squares = [i * i for i in range(1, 6)]\n",
    "print(squares)  # Output: [1, 4, 9, 16, 25]\n"
   ]
  },
  {
   "cell_type": "code",
   "execution_count": 17,
   "id": "25656d04-0336-44c4-9491-a83e4a6233d4",
   "metadata": {},
   "outputs": [
    {
     "name": "stdout",
     "output_type": "stream",
     "text": [
      "[4, 16, 36, 64, 100]\n"
     ]
    }
   ],
   "source": [
    "even_squares = [i * i for i in range(1, 11) if i % 2 == 0]\n",
    "print(even_squares)  # [4, 16, 36, 64, 100]\n"
   ]
  },
  {
   "cell_type": "code",
   "execution_count": 28,
   "id": "cf907adc-7d85-458b-b9a3-0573294b500f",
   "metadata": {},
   "outputs": [
    {
     "name": "stdout",
     "output_type": "stream",
     "text": [
      "[2, 6, 10, 14]\n"
     ]
    }
   ],
   "source": [
    "num = [1,3,5,7]\n",
    "\n",
    "for i in range(len(num)):\n",
    "    num[i] = num[i] * 2 \n",
    "        \n",
    "print(num)"
   ]
  },
  {
   "cell_type": "code",
   "execution_count": 2,
   "id": "e9a1fa4f-6dc1-45ef-ac12-955d671867d5",
   "metadata": {},
   "outputs": [
    {
     "name": "stdout",
     "output_type": "stream",
     "text": [
      "apple\n",
      "cherry\n",
      "['mango', 'cherry']\n",
      "Apple is in the list.\n"
     ]
    }
   ],
   "source": [
    "# List basics\n",
    "fruits = [\"apple\", \"banana\", \"cherry\"]\n",
    "\n",
    "# Try these out:\n",
    "fruits.append(\"orange\")         # Add to end\n",
    "fruits.pop()                    # Remove from end\n",
    "fruits.insert(1, \"mango\")       # Insert at index\n",
    "fruits.remove(\"banana\")         # Remove by value\n",
    "\n",
    "# Accessing elements\n",
    "print(fruits[0])                # First element\n",
    "print(fruits[-1])               # Last element\n",
    "\n",
    "# Slicing\n",
    "print(fruits[1:3])              # Elements at index 1 and 2\n",
    "\n",
    "# Check if element exists\n",
    "if \"apple\" in fruits:\n",
    "    print(\"Apple is in the list.\")\n"
   ]
  }
 ],
 "metadata": {
  "kernelspec": {
   "display_name": "Python 3 (ipykernel)",
   "language": "python",
   "name": "python3"
  },
  "language_info": {
   "codemirror_mode": {
    "name": "ipython",
    "version": 3
   },
   "file_extension": ".py",
   "mimetype": "text/x-python",
   "name": "python",
   "nbconvert_exporter": "python",
   "pygments_lexer": "ipython3",
   "version": "3.13.2"
  }
 },
 "nbformat": 4,
 "nbformat_minor": 5
}
