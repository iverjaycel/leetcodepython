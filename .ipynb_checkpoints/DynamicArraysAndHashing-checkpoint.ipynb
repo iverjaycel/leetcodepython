{
 "cells": [
  {
   "cell_type": "markdown",
   "id": "59e0d6cc",
   "metadata": {},
   "source": [
    "#### Dynamic array\n",
    "Dynamic array is a data structure that can grow or shrink in size as needed, allowing you to efficiently store and manage a collection of elements. The most commonly used implementation of a dynamic array in Python is the built-in list data type.\n",
    "\n",
    "Here's an explanation of how dynamic arrays work:\n",
    "\n",
    "   - Dynamic Sizing: A dynamic array starts with a fixed size, but when you add elements to it, and it reaches its capacity, it automatically resizes itself by creating a new, larger array and copying the elements from the old array to the new one. This resizing process is usually done behind the scenes, so you don't have to manage it manually.\n",
    "\n",
    "   - Random Access: Dynamic arrays provide O(1) constant-time access to elements, which means you can quickly access any element by its index.\n",
    "\n",
    "   - Flexible Size: You don't need to specify the size of a dynamic array in advance. It can grow as you add elements to it and shrink as you remove elements from it."
   ]
  },
  {
   "cell_type": "code",
   "execution_count": 13,
   "id": "2848ee97",
   "metadata": {},
   "outputs": [
    {
     "name": "stdout",
     "output_type": "stream",
     "text": [
      "10\n",
      "20\n",
      "30\n",
      "30\n",
      "20\n",
      "10\n",
      "3\n",
      "[10, 20]\n"
     ]
    }
   ],
   "source": [
    "# Create an empty dynamic array (list)\n",
    "my_dynamic_array = []\n",
    "\n",
    "# Append elements to the dynamic array\n",
    "my_dynamic_array.append(10)\n",
    "my_dynamic_array.append(20)\n",
    "my_dynamic_array.append(30)\n",
    "\n",
    "# Access elements by their index\n",
    "print(my_dynamic_array[0])  # Output: 10\n",
    "print(my_dynamic_array[1])  # Output: 20\n",
    "print(my_dynamic_array[2])  # Output: 30\n",
    "\n",
    "# You can also use negative indices to access elements from the end of the array\n",
    "print(my_dynamic_array[-1])  # Output: 30\n",
    "print(my_dynamic_array[-2])  # Output: 20\n",
    "\n",
    "\n",
    "# Get the length of the dynamic array\n",
    "print(len(my_dynamic_array))  # Output: 3\n",
    "\n",
    "# Remove elements from the dynamic array\n",
    "my_dynamic_array.pop()  # Removes and returns the last element (30)\n",
    "\n",
    "# Check the modified dynamic array\n",
    "print(my_dynamic_array)  # Output: [10, 20]\n",
    "\n",
    "# You can continue to add and remove elements as needed, and the array will adjust its size automatically.\n"
   ]
  },
  {
   "cell_type": "code",
   "execution_count": 9,
   "id": "cb457d97",
   "metadata": {},
   "outputs": [
    {
     "name": "stdout",
     "output_type": "stream",
     "text": [
      "First Element: 10\n",
      "Second Element: 20\n",
      "Last Element: 30\n",
      "Second-to-Last Element: 20\n",
      "Array Length: 3\n",
      "Removed Element: 30\n",
      "Updated Array: [10, 20]\n"
     ]
    }
   ],
   "source": [
    "# Create an empty dynamic array (list)\n",
    "my_dynamic_array = []\n",
    "\n",
    "# Append elements to the dynamic array\n",
    "my_dynamic_array.append(10)  # Adds the element 10 to the end of the list\n",
    "my_dynamic_array.append(20)  # Adds the element 20 to the end of the list\n",
    "my_dynamic_array.append(30)  # Adds the element 30 to the end of the list\n",
    "\n",
    "# Access elements by their index\n",
    "first_element = my_dynamic_array[0]  # Access the first element (10)\n",
    "second_element = my_dynamic_array[1]  # Access the second element (20)\n",
    "\n",
    "# Print the accessed elements\n",
    "print(\"First Element:\", first_element)\n",
    "print(\"Second Element:\", second_element)\n",
    "\n",
    "# You can also use negative indices to access elements from the end of the array\n",
    "last_element = my_dynamic_array[-1]  # Access the last element (30)\n",
    "second_to_last = my_dynamic_array[-2]  # Access the second-to-last element (20)\n",
    "\n",
    "# Print the elements accessed with negative indices\n",
    "print(\"Last Element:\", last_element)\n",
    "print(\"Second-to-Last Element:\", second_to_last)\n",
    "\n",
    "# Get the length of the dynamic array\n",
    "array_length = len(my_dynamic_array)  # Get the length of the list (3)\n",
    "\n",
    "# Print the length\n",
    "print(\"Array Length:\", array_length)\n",
    "\n",
    "# Remove elements from the dynamic array\n",
    "removed_element = my_dynamic_array.pop()  # Removes and returns the last element (30)\n",
    "\n",
    "# Check the modified dynamic array\n",
    "print(\"Removed Element:\", removed_element)  # Prints the removed element (30)\n",
    "print(\"Updated Array:\", my_dynamic_array)  # Prints the updated list ([10, 20])\n",
    "\n",
    "# You can continue to add, access, and remove elements as needed, and the array will adjust its size automatically.\n"
   ]
  }
 ],
 "metadata": {
  "kernelspec": {
   "display_name": "Python 3 (ipykernel)",
   "language": "python",
   "name": "python3"
  },
  "language_info": {
   "codemirror_mode": {
    "name": "ipython",
    "version": 3
   },
   "file_extension": ".py",
   "mimetype": "text/x-python",
   "name": "python",
   "nbconvert_exporter": "python",
   "pygments_lexer": "ipython3",
   "version": "3.10.12"
  }
 },
 "nbformat": 4,
 "nbformat_minor": 5
}
