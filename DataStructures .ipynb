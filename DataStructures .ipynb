{
 "cells": [
  {
   "cell_type": "markdown",
   "id": "e949d2dc",
   "metadata": {},
   "source": [
    "## Array\n",
    "\n",
    "In Python, an array typically refers to a data structure known as a \"list.\" However, Python also provides a separate module called `array` that allows you to work with arrays in a more memory-efficient way compared to lists, as it stores elements of a single data type. Let's discuss both concepts:\n",
    "\n",
    "1. Lists:\n",
    "   Lists are a versatile and commonly used data structure in Python. They can hold elements of different data types and have dynamic sizing, meaning you can add or remove elements as needed. Lists are created using square brackets `[]` and can contain any data type, including other lists. Here's an example:\n",
    "\n",
    "   ```python\n",
    "   my_list = [1, 2, 3, 4, 5]\n",
    "   ```\n",
    "\n",
    "   You can perform various operations on lists, such as appending, removing, slicing, and iterating through elements.\n",
    "\n",
    "   ```python\n",
    "   my_list.append(6)\n",
    "   my_list.remove(3)\n",
    "   sub_list = my_list[1:4]\n",
    "   ```\n",
    "\n",
    "2. `array` module:\n",
    "   The `array` module in Python provides a way to create and work with arrays that are more memory-efficient than lists. Unlike lists, `array` requires all elements to be of the same data type. To use the `array` module, you need to import it:\n",
    "\n",
    "   ```python\n",
    "   from array import array\n",
    "   ```\n",
    "\n",
    "   You can create an array by specifying the type code (e.g., 'i' for integers) and providing a list of elements:\n",
    "\n",
    "   ```python\n",
    "   my_array = array('i', [1, 2, 3, 4, 5])\n",
    "   ```\n",
    "\n",
    "   The type code determines the data type of elements in the array. Common type codes include:\n",
    "   - 'i' for signed integers\n",
    "   - 'f' for floating-point numbers\n",
    "   - 'd' for double-precision floating-point numbers\n",
    "   - 'b' for bytes\n",
    "\n",
    "   You can perform various operations on `array` objects, similar to lists:\n",
    "\n",
    "   ```python\n",
    "   my_array.append(6)\n",
    "   my_array.remove(3)\n",
    "   sub_array = my_array[1:4]\n",
    "   ```\n",
    "\n",
    "   The main advantage of using `array` over lists is that it can be more memory-efficient for certain use cases since it stores elements of a uniform data type.\n",
    "\n",
    "In most cases, you'll use lists for general-purpose data storage and manipulation in Python. However, if you have specific memory or type requirements, you can consider using the `array` module.\n"
   ]
  },
  {
   "cell_type": "markdown",
   "id": "e6e765df",
   "metadata": {},
   "source": [
    "## List Functions  \n",
    "In Python, lists are a versatile and commonly used data structure. They come with a variety of built-in functions and methods that allow you to manipulate and work with lists efficiently. Here are some of the most commonly used list functions and methods:\n",
    "\n",
    "1. **Creating Lists:**\n",
    "   - `list()`: Creates an empty list.\n",
    "   - `[...]`: Creates a list using square brackets and comma-separated values.\n",
    "\n",
    "   ```python\n",
    "   my_list = [1, 2, 3, 4, 5]\n",
    "   ```\n",
    "\n",
    "2. **Adding Elements:**\n",
    "   - `append(item)`: Adds an item to the end of the list.\n",
    "   - `extend(iterable)`: Extends the list by appending elements from an iterable.\n",
    "   - `insert(index, item)`: Inserts an item at the specified index.\n",
    "\n",
    "   ```python\n",
    "   my_list.append(6)\n",
    "   my_list.extend([7, 8])\n",
    "   my_list.insert(2, 9)\n",
    "   ```\n",
    "\n",
    "3. **Removing Elements:**\n",
    "   - `remove(item)`: Removes the first occurrence of the specified item.\n",
    "   - `pop([index])`: Removes and returns the element at the specified index. If no index is provided, it removes and returns the last element.\n",
    "   - `clear()`: Removes all elements from the list.\n",
    "\n",
    "   ```python\n",
    "   my_list.remove(3)\n",
    "   popped_element = my_list.pop(0)\n",
    "   my_list.clear()\n",
    "   ```\n",
    "\n",
    "4. **Accessing Elements:**\n",
    "   - `index(item)`: Returns the index of the first occurrence of the specified item.\n",
    "   - `count(item)`: Returns the number of times an item appears in the list.\n",
    "\n",
    "   ```python\n",
    "   index = my_list.index(4)\n",
    "   count = my_list.count(5)\n",
    "   ```\n",
    "\n",
    "5. **Sorting and Reversing:**\n",
    "   - `sort()`: Sorts the list in ascending order (in-place).\n",
    "   - `reverse()`: Reverses the order of elements in the list (in-place).\n",
    "\n",
    "   ```python\n",
    "   my_list.sort()\n",
    "   my_list.reverse()\n",
    "   ```\n",
    "\n",
    "6. **Copying Lists:**\n",
    "   - `copy()`: Creates a shallow copy of the list.\n",
    "   - `list(my_list)`: Creates a new list with the same elements (shallow copy).\n",
    "\n",
    "   ```python\n",
    "   copy_of_list = my_list.copy()\n",
    "   new_list = list(my_list)\n",
    "   ```\n",
    "\n",
    "7. **List Comprehensions:** A concise way to create lists based on existing lists or other iterables.\n",
    "\n",
    "   ```python\n",
    "   squared_list = [x**2 for x in my_list]\n",
    "   ```\n",
    "\n",
    "8. **Slicing:** Extracting a portion of the list using slicing notation.\n",
    "\n",
    "   ```python\n",
    "   sub_list = my_list[1:4]  # Retrieves elements at index 1, 2, and 3.\n",
    "   ```\n",
    "\n",
    "9. **Other Functions:**\n",
    "   - `len(my_list)`: Returns the number of elements in the list.\n",
    "   - `max(my_list)`: Returns the maximum element in the list.\n",
    "   - `min(my_list)`: Returns the minimum element in the list.\n",
    "\n",
    "   ```python\n",
    "   length = len(my_list)\n",
    "   maximum = max(my_list)\n",
    "   minimum = min(my_list)\n",
    "   ```\n",
    "\n",
    "These are some of the fundamental functions and methods for working with lists in Python. Lists are incredibly flexible and widely used for storing and manipulating collections of data."
   ]
  },
  {
   "cell_type": "markdown",
   "id": "e35dbbeb",
   "metadata": {},
   "source": [
    "## Delete Function \n",
    "In Python, you can delete elements from a list using various methods and functions. Here are some common ways to delete elements from a list:\n",
    "\n",
    "1. **Using the `del` Statement:**\n",
    "   The `del` statement allows you to remove an element from a list by specifying its index. Here's how you can use it:\n",
    "\n",
    "   ```python\n",
    "   my_list = [1, 2, 3, 4, 5]\n",
    "   del my_list[2]  # Deletes the element at index 2 (value 3)\n",
    "   ```\n",
    "\n",
    "   After executing this code, `my_list` will be `[1, 2, 4, 5]`.\n",
    "\n",
    "2. **Using the `remove` Method:**\n",
    "   The `remove` method removes the first occurrence of a specified value from the list. If the value is not found, it raises a `ValueError`. Here's an example:\n",
    "\n",
    "   ```python\n",
    "   my_list = [1, 2, 3, 4, 5]\n",
    "   my_list.remove(3)  # Removes the first occurrence of 3\n",
    "   ```\n",
    "\n",
    "   After executing this code, `my_list` will be `[1, 2, 4, 5]`.\n",
    "\n",
    "3. **Using List Comprehension:**\n",
    "   You can use list comprehension to create a new list that excludes the elements you want to delete. This method does not modify the original list but creates a new one without the specified elements:\n",
    "\n",
    "   ```python\n",
    "   my_list = [1, 2, 3, 4, 5]\n",
    "   value_to_remove = 3\n",
    "   my_list = [x for x in my_list if x != value_to_remove]\n",
    "   ```\n",
    "\n",
    "   After executing this code, `my_list` will be `[1, 2, 4, 5]`.\n",
    "\n",
    "4. **Using Slicing:**\n",
    "   Slicing can be used to create a new list that excludes specific elements. This method also creates a new list without modifying the original one:\n",
    "\n",
    "   ```python\n",
    "   my_list = [1, 2, 3, 4, 5]\n",
    "   index_to_remove = 2\n",
    "   my_list = my_list[:index_to_remove] + my_list[index_to_remove + 1:]\n",
    "   ```\n",
    "\n",
    "   After executing this code, `my_list` will be `[1, 2, 4, 5]`.\n",
    "\n",
    "Choose the method that best suits your specific needs and requirements for deleting elements from a list in Python."
   ]
  },
  {
   "cell_type": "code",
   "execution_count": 15,
   "id": "5a3170d4",
   "metadata": {},
   "outputs": [
    {
     "name": "stdout",
     "output_type": "stream",
     "text": [
      "[0, 1, 2, 3, 4, 5, 6, 7]\n",
      "[25, 36, 49, 64, 81]\n"
     ]
    }
   ],
   "source": [
    "x = list() #empty list \n",
    "y = ['a',25,'dog',8.43] #manual passing \n",
    "tuple1 = (10,20) #tuple cant change the value \n",
    "z = list(tuple1) \n",
    "\n",
    "#list comprehension \n",
    "a = [m for m in range(8)]\n",
    "print(a)\n",
    "b=[i**2 for i in range(10) if i > 4 ] # 5 to 9 squared\n",
    "print(b)"
   ]
  },
  {
   "cell_type": "markdown",
   "id": "f5246a34",
   "metadata": {},
   "source": [
    "## Tuples \n",
    "   - Immutable(can't add/change)\n",
    "   - Useful for fixed Data \n",
    "   - Faster than List \n",
    "   - Sequence type \n",
    "   \n",
    "   **Constructors** - creating new tuples \n",
    "   "
   ]
  },
  {
   "cell_type": "code",
   "execution_count": 16,
   "id": "693abb38",
   "metadata": {},
   "outputs": [
    {
     "name": "stdout",
     "output_type": "stream",
     "text": [
      "(2,) <class 'tuple'>\n",
      "(2, 4, 6) <class 'tuple'>\n"
     ]
    }
   ],
   "source": [
    "x = ()\n",
    "x = (1,2,3) #parenthesis are optional \n",
    "x = 1,2,3\n",
    "x = 2, # the comma tells python it's a tuple \n",
    "print(x ,type(x))\n",
    "\n",
    "list1 = [2,4,6] #list \n",
    "x = tuple(list1) #passes as tupple \n",
    "\n",
    "print(x, type(x)) "
   ]
  },
  {
   "cell_type": "code",
   "execution_count": 17,
   "id": "52c021e6",
   "metadata": {},
   "outputs": [
    {
     "name": "stdout",
     "output_type": "stream",
     "text": [
      "(1, 2, 3)\n"
     ]
    }
   ],
   "source": [
    "x =  (1,2,3)\n",
    " # del(x[1])   #fails \n",
    " # x[1] = 8    #fails \n",
    "print(x)  \n",
    "\n",
    "y = ([1,2], 3)    #a tuple where the first item is a list \n",
    "del(y[0][1])      # delete the 2\n",
    "print(y)          # the list within the tuple is mutable  \n",
    "\n",
    "y+= (4,)          #concatenating two tuples work \n",
    "print(y)"
   ]
  },
  {
   "cell_type": "markdown",
   "id": "f63150de",
   "metadata": {},
   "source": [
    "## Sets \n",
    "\n",
    "   - Store non-duplicate items \n",
    "   - Very fast access vs List \n",
    "   - Math Set ops(union,intersect)\n",
    "   - Sets are Unordered/You canot order a set \n",
    "    \n",
    "   **constructors** - creating new sets "
   ]
  },
  {
   "cell_type": "code",
   "execution_count": 18,
   "id": "9d660340",
   "metadata": {},
   "outputs": [
    {
     "name": "stdout",
     "output_type": "stream",
     "text": [
      "{3, 5}\n",
      "set()\n",
      "{2, 3, 4}\n"
     ]
    }
   ],
   "source": [
    "x = {3,5,3,5} #curly braces \n",
    "print(x) # It automatically filters the duplicates \n",
    "\n",
    "y = set() #set constructor \n",
    "print(y) #empty\n",
    "\n",
    "list1 = [2,3,4] # Pass a list into set \n",
    "z = set(list1) #Passing of list into set \n",
    "print(z) \n"
   ]
  },
  {
   "cell_type": "markdown",
   "id": "649d072a",
   "metadata": {},
   "source": [
    "**Set operations**\n"
   ]
  },
  {
   "cell_type": "code",
   "execution_count": 20,
   "id": "4e317d2d",
   "metadata": {
    "scrolled": true
   },
   "outputs": [
    {
     "name": "stdout",
     "output_type": "stream",
     "text": [
      "{8, 3, 5}\n",
      "{8, 3, 5, 7}\n",
      "{8, 5, 7}\n",
      "3\n",
      "True\n",
      "8 {5, 7}\n"
     ]
    }
   ],
   "source": [
    "x = {3,8,5}\n",
    "print(x)\n",
    "x.add(7)\n",
    "print(x)\n",
    "\n",
    "x.remove(3)\n",
    "print(x)\n",
    "\n",
    "# Get length of set x \n",
    "print(len(x))\n",
    "\n",
    "#Check membership in x \n",
    "print(5 in x )\n",
    "\n",
    "#Pop random item from set x \n",
    "print(x.pop(),x)\n",
    "\n",
    "#Delete all items from set x \n",
    "x.clear()\n"
   ]
  },
  {
   "cell_type": "code",
   "execution_count": null,
   "id": "3d362b92",
   "metadata": {},
   "outputs": [],
   "source": []
  }
 ],
 "metadata": {
  "kernelspec": {
   "display_name": "Python 3 (ipykernel)",
   "language": "python",
   "name": "python3"
  },
  "language_info": {
   "codemirror_mode": {
    "name": "ipython",
    "version": 3
   },
   "file_extension": ".py",
   "mimetype": "text/x-python",
   "name": "python",
   "nbconvert_exporter": "python",
   "pygments_lexer": "ipython3",
   "version": "3.10.12"
  }
 },
 "nbformat": 4,
 "nbformat_minor": 5
}
