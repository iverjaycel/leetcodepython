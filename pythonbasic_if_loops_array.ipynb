{
 "cells": [
  {
   "cell_type": "markdown",
   "id": "cb229991",
   "metadata": {},
   "source": [
    "### While loops \n",
    "\n",
    "Certainly, here's the basic structure of a `while` loop in Python:\n",
    "\n",
    "```python\n",
    "while condition:\n",
    "    # Code to execute while the condition is True\n",
    "    # The loop will continue as long as the condition remains True\n",
    "```\n",
    "\n",
    "The `while` loop repeatedly executes the code block as long as the specified condition evaluates to `True`. It's important to ensure that the condition eventually becomes `False` to avoid an infinite loop.\n",
    "\n",
    "You can use `break` to exit the loop prematurely and `continue` to skip the rest of the current iteration and move on to the next iteration.\n"
   ]
  },
  {
   "cell_type": "code",
   "execution_count": 2,
   "id": "c96dfb4b",
   "metadata": {},
   "outputs": [
    {
     "name": "stdout",
     "output_type": "stream",
     "text": [
      "1\n",
      "2\n",
      "3\n",
      "4\n",
      "5\n"
     ]
    }
   ],
   "source": [
    "i = 1 \n",
    "while i <= 5:\n",
    "    print(i) \n",
    "    i = i + 1"
   ]
  },
  {
   "cell_type": "markdown",
   "id": "44a66a5b",
   "metadata": {},
   "source": [
    "### List \n",
    "list is a collection of items, and it's one of the most commonly used data structures. Lists are versatile and can hold elements of different data types, including numbers, strings, and even other lists. Lists are ordered, meaning the order of items in a list is maintained.\n",
    "\n",
    "Here's an explanation of how to work with lists in Python:\n",
    "\n",
    "1. **Creating a List**:\n",
    "   You can create a list by enclosing a comma-separated sequence of items within square brackets `[ ]`.\n",
    "\n",
    "   ```python\n",
    "   my_list = [1, 2, 3, 4, 5]\n",
    "   ```\n",
    "\n",
    "2. **Accessing Elements**:\n",
    "   Elements in a list are accessed using index numbers. The first element has an index of 0, the second has an index of 1, and so on.\n",
    "\n",
    "   ```python\n",
    "   first_element = my_list[0]  # Accesses the first element (1)\n",
    "   third_element = my_list[2]  # Accesses the third element (3)\n",
    "   ```\n",
    "\n",
    "3. **Modifying Elements**:\n",
    "   You can change the value of an element in a list by assigning a new value to a specific index.\n",
    "\n",
    "   ```python\n",
    "   my_list[1] = 10  # Changes the second element to 10\n",
    "   ```\n",
    "\n",
    "4. **Appending and Inserting Elements**:\n",
    "   You can add elements to the end of a list using the `append()` method. You can also insert elements at a specific position using the `insert()` method.\n",
    "\n",
    "   ```python\n",
    "   my_list.append(6)       # Adds 6 to the end\n",
    "   my_list.insert(1, 7)    # Inserts 7 at index 1, shifting other elements\n",
    "   ```\n",
    "\n",
    "5. **Removing Elements**:\n",
    "   You can remove elements by value using the `remove()` method or by index using the `del` statement.\n",
    "\n",
    "   ```python\n",
    "   my_list.remove(3)   # Removes the element with value 3\n",
    "   del my_list[0]      # Removes the first element\n",
    "   ```\n",
    "\n",
    "6. **Popping Elements**:\n",
    "   The `pop()` method removes and returns the last element by default. You can also provide an index to remove and return an element at that index.\n",
    "\n",
    "   ```python\n",
    "   popped_item = my_list.pop()  # Removes and returns the last element\n",
    "   ```\n",
    "\n",
    "7. **Other List Methods**:\n",
    "   There are various other methods like `index()`, `count()`, `sort()`, `reverse()`, and more that allow you to manipulate and manage lists in different ways.\n",
    "\n",
    "8. **List Length**:\n",
    "   You can find the number of elements in a list using the `len()` function.\n",
    "\n",
    "   ```python\n",
    "   length = len(my_list)  # Returns the number of elements in the list\n",
    "   ```\n",
    "\n",
    "Lists are fundamental data structures in Python, offering a convenient way to store and manipulate collections of items."
   ]
  },
  {
   "cell_type": "code",
   "execution_count": 5,
   "id": "1c94950f",
   "metadata": {},
   "outputs": [
    {
     "name": "stdout",
     "output_type": "stream",
     "text": [
      "['iver', 'jhon', 'ace', 'morty']\n",
      "iver\n",
      "morty\n",
      "['iver', 'jhon', 'ace']\n"
     ]
    }
   ],
   "source": [
    "names = [\"iver\",\"jhon\",\"ace\",\"morty\"]\n",
    "print(names) #print all in the index\n",
    "print(names[0]) # Index printing the first element \n",
    "print(names[-1]) #The last of the element \n",
    "print(names[0:3])#print the index excluding the last "
   ]
  },
  {
   "cell_type": "markdown",
   "id": "32477596",
   "metadata": {},
   "source": [
    "### List Methods \n",
    "\n",
    "Here are some common methods that can be used with lists in Python:\n",
    "\n",
    "1. **`append(item)`**: Adds an item to the end of the list.\n",
    "2. **`insert(index, item)`**: Inserts an item at a specific position in the list.\n",
    "3. **`remove(item)`**: Removes the first occurrence of the specified item from the list.\n",
    "4. **`pop(index)`**: Removes and returns the item at the specified index. If no index is provided, it removes and returns the last item.\n",
    "5. **`index(item, start, end)`**: Returns the index of the first occurrence of the specified item within the specified range of indices.\n",
    "6. **`count(item)`**: Returns the number of occurrences of the specified item in the list.\n",
    "7. **`sort()`**: Sorts the list in ascending order.\n",
    "8. **`reverse()`**: Reverses the order of the items in the list.\n",
    "9. **`copy()`**: Creates a shallow copy of the list.\n",
    "10. **`clear()`**: Removes all items from the list.\n",
    "11. **`extend(iterable)`**: Adds elements from an iterable (e.g., another list) to the end of the list.\n",
    "12. **`index(item, start, end)`**: Returns the index of the first occurrence of the specified item within the specified range of indices.\n",
    "13. **`count(item)`**: Returns the number of occurrences of the specified item in the list.\n",
    "14. **`sort(key=None, reverse=False)`**: Sorts the list in ascending order using an optional sorting key function and reverse order flag.\n",
    "15. **`reverse()`**: Reverses the order of the items in the list.\n",
    "16. **`copy()`**: Creates a shallow copy of the list.\n",
    "17. **`clear()`**: Removes all items from the list.\n",
    "18. **`extend(iterable)`**: Adds elements from an iterable (e.g., another list) to the end of the list.\n",
    "\n",
    "These are just some of the methods available for working with lists in Python. Each method provides a way to manipulate and manage the contents of a list, allowing you to perform various operations efficiently."
   ]
  },
  {
   "cell_type": "code",
   "execution_count": 9,
   "id": "93ea290a",
   "metadata": {},
   "outputs": [
    {
     "name": "stdout",
     "output_type": "stream",
     "text": [
      "[-1, 1, 2, 3, 4, 5, 6]\n",
      "True\n",
      "7\n"
     ]
    }
   ],
   "source": [
    "numbers = [1,2,3,4,5]\n",
    "numbers.append(6)\n",
    "numbers.insert(0,-1)\n",
    "print(numbers)\n",
    "print(1 in numbers)\n",
    "print(len(numbers))"
   ]
  },
  {
   "cell_type": "markdown",
   "id": "6cce9146",
   "metadata": {},
   "source": [
    "### For Loops \n",
    "\n",
    "Certainly, here's the basic structure of a `for` loop in Python:\n",
    "\n",
    "```python\n",
    "for element in iterable:\n",
    "    # Code to execute for each element in the iterable\n",
    "```\n",
    "\n",
    "In this loop, the loop variable `element` takes on each value in the `iterable` one by one, and the indented code block is executed for each iteration.\n",
    "\n",
    "You can also use the `range()` function to generate a sequence of numbers to iterate over:\n",
    "\n",
    "```python\n",
    "for i in range(start, stop, step):\n",
    "    # Code to execute for each value of i in the specified range\n",
    "```\n",
    "\n",
    "Here, `start` is the starting value (inclusive), `stop` is the stopping value (exclusive), and `step` is the increment value.\n",
    "\n",
    "Nested `for` loops allow you to iterate over multiple sequences:\n",
    "\n",
    "```python\n",
    "for x in sequence1:\n",
    "    for y in sequence2:\n",
    "        # Code to execute for each combination of x and y\n",
    "```\n",
    "\n",
    "Additionally, you can use the `enumerate()` function to get both the value and index while iterating:\n",
    "\n",
    "```python\n",
    "for index, value in enumerate(iterable):\n",
    "    # Code to execute for each value with its corresponding index\n",
    "```\n",
    "\n",
    "Remember that the code block within the `for` loop should be indented to indicate the scope of the code that should be executed for each iteration."
   ]
  },
  {
   "cell_type": "code",
   "execution_count": null,
   "id": "0ec0669a",
   "metadata": {},
   "outputs": [],
   "source": []
  }
 ],
 "metadata": {
  "kernelspec": {
   "display_name": "Python 3 (ipykernel)",
   "language": "python",
   "name": "python3"
  },
  "language_info": {
   "codemirror_mode": {
    "name": "ipython",
    "version": 3
   },
   "file_extension": ".py",
   "mimetype": "text/x-python",
   "name": "python",
   "nbconvert_exporter": "python",
   "pygments_lexer": "ipython3",
   "version": "3.10.12"
  }
 },
 "nbformat": 4,
 "nbformat_minor": 5
}
